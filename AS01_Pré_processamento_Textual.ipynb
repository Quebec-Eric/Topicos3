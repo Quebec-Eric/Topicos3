{
  "nbformat": 4,
  "nbformat_minor": 0,
  "metadata": {
    "colab": {
      "provenance": []
    },
    "kernelspec": {
      "name": "python3",
      "display_name": "Python 3"
    },
    "language_info": {
      "name": "python"
    }
  },
  "cells": [
    {
      "cell_type": "markdown",
      "source": [
        "Aluno:Eric Azevedo de Oliveira\n"
      ],
      "metadata": {
        "id": "4idr7NaVRoXL"
      }
    },
    {
      "cell_type": "code",
      "source": [
        "#imports para normalizacao\n",
        "import unicodedata\n",
        "import re\n",
        "\n",
        "#imports para tokenizacao\n",
        "import nltk\n",
        "nltk.download('punkt')\n",
        "import spacy\n",
        "from nltk.tokenize import word_tokenize\n",
        "from nltk.tokenize import TreebankWordTokenizer\n",
        "from nltk.tokenize import WordPunctTokenizer\n",
        "from nltk.tokenize import TweetTokenizer\n",
        "from nltk.tokenize import MWETokenizer\n",
        "from textblob import TextBlob\n",
        "from gensim.utils import tokenize\n",
        "from keras.preprocessing.text import text_to_word_sequence\n",
        "from nltk.tokenize.api import TokenizerI\n",
        "from nltk.tokenize import MWETokenizer\n",
        "# Stio words Removal\n",
        "\n",
        "from nltk.corpus import stopwords\n",
        "nltk.download('stopwords')\n",
        "\n",
        "from nltk.tokenize import word_tokenize\n",
        "from nltk.stem import WordNetLemmatizer\n",
        "nltk.download('wordnet')\n",
        "\n",
        "\n",
        "# stemmer\n",
        "\n",
        "from nltk.stem.porter import PorterStemmer\n",
        "from nltk.stem.snowball import SnowballStemmer\n",
        "\n",
        "# 6 parte\n",
        "from collections import Counter\n",
        "import csv"
      ],
      "metadata": {
        "colab": {
          "base_uri": "https://localhost:8080/"
        },
        "id": "yX6UGn4WXDO4",
        "outputId": "83ed702c-14cb-4041-88a4-ee5411b8bea4"
      },
      "execution_count": 368,
      "outputs": [
        {
          "output_type": "stream",
          "name": "stderr",
          "text": [
            "[nltk_data] Downloading package punkt to /root/nltk_data...\n",
            "[nltk_data]   Package punkt is already up-to-date!\n",
            "[nltk_data] Downloading package stopwords to /root/nltk_data...\n",
            "[nltk_data]   Package stopwords is already up-to-date!\n",
            "[nltk_data] Downloading package wordnet to /root/nltk_data...\n",
            "[nltk_data]   Package wordnet is already up-to-date!\n"
          ]
        }
      ]
    },
    {
      "cell_type": "markdown",
      "source": [
        "Lower case"
      ],
      "metadata": {
        "id": "8LIbwTMRQBYt"
      }
    },
    {
      "cell_type": "code",
      "source": [
        "def fazerLowerCasa(linhaArquivo):\n",
        "    return linhaArquivo.lower()"
      ],
      "metadata": {
        "id": "N7xICNOKQDMV"
      },
      "execution_count": 369,
      "outputs": []
    },
    {
      "cell_type": "markdown",
      "source": [
        "Accent and diacritic removal"
      ],
      "metadata": {
        "id": "7EDGKHtUQPgh"
      }
    },
    {
      "cell_type": "code",
      "source": [
        "def accentAndDiacriticRemoval(linhaArquivo):\n",
        "    nfkd_from=unicodedata.normalize('NFKD',linhaArquivo)\n",
        "    return u\"\".join([c for c in nfkd_from if not unicodedata.combining(c)])\n"
      ],
      "metadata": {
        "id": "KRqXVaCWVJ8F"
      },
      "execution_count": 370,
      "outputs": []
    },
    {
      "cell_type": "markdown",
      "source": [
        "Canonicalizing of acronyms, currency, date and hyphenated words"
      ],
      "metadata": {
        "id": "92jBv023YZzr"
      }
    },
    {
      "cell_type": "code",
      "source": [
        "def canonicalizing(linhaArquivo):\n",
        "    linhaArquivo = re.sub('\\.(?!(\\S[^. ])|\\d)','', linhaArquivo)\n",
        "    linhaArquivo = re.sub('(?<!\\d)[.,;!?\\'\\(\\)#:-](?!\\d)','',linhaArquivo)\n",
        "    linhaArquivo= re.sub(' +', ' ',linhaArquivo)\n",
        "    return linhaArquivo\n",
        "\n"
      ],
      "metadata": {
        "id": "PwMD89shYaoG"
      },
      "execution_count": 371,
      "outputs": []
    },
    {
      "cell_type": "markdown",
      "source": [
        "Normalização"
      ],
      "metadata": {
        "id": "fJULOW-HeuKn"
      }
    },
    {
      "cell_type": "code",
      "source": [
        "#Leitura do arquivo\n",
        "\n",
        "with open('Shakespeare.txt', 'r') as arquivoLeitura, open(\"Shakespeare_Normalized.txt\", \"w\") as arquivoEscrita:\n",
        "  for linha in arquivoLeitura:\n",
        "      linha=fazerLowerCasa(linha)\n",
        "      linha=accentAndDiacriticRemoval(linha)\n",
        "      linha=canonicalizing(linha)\n",
        "      arquivoEscrita.write(linha)\n",
        "      arquivoEscrita.flush()\n",
        "\n",
        "arquivoLeitura.close()\n",
        "arquivoEscrita.close()\n"
      ],
      "metadata": {
        "id": "1IlNXQInevU0"
      },
      "execution_count": 372,
      "outputs": []
    },
    {
      "cell_type": "markdown",
      "source": [
        " Tokenização inicio"
      ],
      "metadata": {
        "id": "w2BwASabj8bO"
      }
    },
    {
      "cell_type": "markdown",
      "source": [
        "White Space Tokenization"
      ],
      "metadata": {
        "id": "SFCLxC1bj-od"
      }
    },
    {
      "cell_type": "code",
      "source": [
        "def whiteSpace(linhaArquivo):\n",
        "    return linhaArquivo.split()"
      ],
      "metadata": {
        "id": "1jWJ52PHkAjX"
      },
      "execution_count": 373,
      "outputs": []
    },
    {
      "cell_type": "markdown",
      "source": [
        "NLTK: Word Tokenizer"
      ],
      "metadata": {
        "id": "gl9hfbbHlqEk"
      }
    },
    {
      "cell_type": "code",
      "source": [
        "def wordTokenizer(linhaArquivo):\n",
        "    return word_tokenize(linhaArquivo)"
      ],
      "metadata": {
        "id": "SbwC7mYhlq2d"
      },
      "execution_count": 374,
      "outputs": []
    },
    {
      "cell_type": "markdown",
      "source": [
        "NLTK: Tree Bank Tokenizer"
      ],
      "metadata": {
        "id": "wPQdkZDolsAR"
      }
    },
    {
      "cell_type": "code",
      "source": [
        "def treeBankokenizer(linhaArquivo):\n",
        "    token=TreebankWordTokenizer()\n",
        "    return token.tokenize(linhaArquivo)"
      ],
      "metadata": {
        "id": "fwLkAJxlltqs"
      },
      "execution_count": 375,
      "outputs": []
    },
    {
      "cell_type": "markdown",
      "source": [
        "NLTK: Word Punctuation Tokenizer"
      ],
      "metadata": {
        "id": "6jD2Lz4Blt3G"
      }
    },
    {
      "cell_type": "code",
      "source": [
        "def wordPunctuationTokenizer(linhaArquivo):\n",
        "    toke=WordPunctTokenizer()\n",
        "    return toke.tokenize(linhaArquivo)"
      ],
      "metadata": {
        "id": "Dyg9NeZlluiS"
      },
      "execution_count": 376,
      "outputs": []
    },
    {
      "cell_type": "markdown",
      "source": [
        "NLTK: Tweet Tokenizer"
      ],
      "metadata": {
        "id": "-KgmbgfXlvZh"
      }
    },
    {
      "cell_type": "code",
      "source": [
        "def tweetTokenizer(linhaArquivo):\n",
        "    toke= TweetTokenizer()\n",
        "    return toke.tokenize(linhaArquivo)"
      ],
      "metadata": {
        "id": "CxnWqFOelzwZ"
      },
      "execution_count": 377,
      "outputs": []
    },
    {
      "cell_type": "markdown",
      "source": [
        "NLTK: MWE Tokenizer"
      ],
      "metadata": {
        "id": "V00m2mfCl1U4"
      }
    },
    {
      "cell_type": "code",
      "source": [
        "from nltk.tokenize import MWETokenizer\n",
        "\n",
        "def mweTokenizer(linhaArquivo):\n",
        "    tokenizer = MWETokenizer()\n",
        "    return tokenizer.tokenize(linhaArquivo.split())\n"
      ],
      "metadata": {
        "id": "STW3YXbCl1qo"
      },
      "execution_count": 378,
      "outputs": []
    },
    {
      "cell_type": "markdown",
      "source": [
        "TextBlob Word Tokenizer"
      ],
      "metadata": {
        "id": "0szjnlN3l3ss"
      }
    },
    {
      "cell_type": "code",
      "source": [
        "def textBlobWordTokenize(linhaArquivo):\n",
        "    text = TextBlob(linhaArquivo)\n",
        "    return text.words\n"
      ],
      "metadata": {
        "id": "dEJbY1Xkl4Mf"
      },
      "execution_count": 379,
      "outputs": []
    },
    {
      "cell_type": "markdown",
      "source": [
        "spaCy Tokenizer"
      ],
      "metadata": {
        "id": "Fv2FMLtyl5Em"
      }
    },
    {
      "cell_type": "code",
      "source": [
        "def spacyTokenizer(linhaArquivo):\n",
        "    nlp = spacy.load(\"en_core_web_sm\")\n",
        "    dc=nlp(linhaArquivo)\n",
        "    resposta=[token.text for token in dc]\n",
        "    return resposta"
      ],
      "metadata": {
        "id": "0uC2Q1t9l5kO"
      },
      "execution_count": 380,
      "outputs": []
    },
    {
      "cell_type": "markdown",
      "source": [
        "Gensim Word Tokenizer"
      ],
      "metadata": {
        "id": "EZSM-SO5l64Y"
      }
    },
    {
      "cell_type": "code",
      "source": [
        "def gensimWordTokenizer(linhaArquivo):\n",
        "    return list(tokenize(linhaArquivo))"
      ],
      "metadata": {
        "id": "YYBFc0cPl7QR"
      },
      "execution_count": 381,
      "outputs": []
    },
    {
      "cell_type": "markdown",
      "source": [
        "Keras Tokenization"
      ],
      "metadata": {
        "id": "OqzExtzQl7vg"
      }
    },
    {
      "cell_type": "code",
      "source": [
        "def kerasTokenization(linhaArquivo):\n",
        "    return text_to_word_sequence(linhaArquivo)"
      ],
      "metadata": {
        "id": "-P7f1amNl9fs"
      },
      "execution_count": 382,
      "outputs": []
    },
    {
      "cell_type": "code",
      "source": [
        "#enum das funcoes\n",
        "tokes= [\n",
        "    whiteSpace,\n",
        "    wordTokenizer,\n",
        "    treeBankokenizer,\n",
        "    wordPunctuationTokenizer,\n",
        "    tweetTokenizer,\n",
        "    mweTokenizer,\n",
        "    textBlobWordTokenize,\n",
        "    spacyTokenizer,\n",
        "    gensimWordTokenizer,\n",
        "    kerasTokenization\n",
        "]"
      ],
      "metadata": {
        "id": "CHHPmAeRvsYE"
      },
      "execution_count": 383,
      "outputs": []
    },
    {
      "cell_type": "code",
      "source": [
        "with open('Shakespeare_Normalized.txt', 'r') as infile:\n",
        "    text = infile.read()\n",
        "\n",
        "for i, tokenizer in enumerate(tokes):\n",
        "      tokens = tokenizer(text)\n",
        "      print(f\"Tokens para o tokenizer {i+1}: {tokens[:10]} ...\")\n",
        "      with open(f'Shakespeare_Normalized_Tokenized{i+1:02d}.txt', 'w') as outfile:\n",
        "          outfile.write('\\n'.join(map(str, tokens)))"
      ],
      "metadata": {
        "id": "hI86nnzDxxoZ",
        "colab": {
          "base_uri": "https://localhost:8080/"
        },
        "outputId": "82d99c93-e606-4579-aac2-b591b63c4fbf"
      },
      "execution_count": 384,
      "outputs": [
        {
          "output_type": "stream",
          "name": "stdout",
          "text": [
            "Tokens para o tokenizer 1: ['that', 'poor', 'contempt', 'or', 'claimd', 'thou', 'slept', 'so', 'faithful', 'i'] ...\n",
            "Tokens para o tokenizer 2: ['that', 'poor', 'contempt', 'or', 'claimd', 'thou', 'slept', 'so', 'faithful', 'i'] ...\n",
            "Tokens para o tokenizer 3: ['that', 'poor', 'contempt', 'or', 'claimd', 'thou', 'slept', 'so', 'faithful', 'i'] ...\n",
            "Tokens para o tokenizer 4: ['that', 'poor', 'contempt', 'or', 'claimd', 'thou', 'slept', 'so', 'faithful', 'i'] ...\n",
            "Tokens para o tokenizer 5: ['that', 'poor', 'contempt', 'or', 'claimd', 'thou', 'slept', 'so', 'faithful', 'i'] ...\n",
            "Tokens para o tokenizer 6: ['that', 'poor', 'contempt', 'or', 'claimd', 'thou', 'slept', 'so', 'faithful', 'i'] ...\n",
            "Tokens para o tokenizer 7: ['that', 'poor', 'contempt', 'or', 'claimd', 'thou', 'slept', 'so', 'faithful', 'i'] ...\n",
            "Tokens para o tokenizer 8: ['that', 'poor', 'contempt', 'or', 'claimd', 'thou', 'slept', 'so', 'faithful', '\\n'] ...\n",
            "Tokens para o tokenizer 9: ['that', 'poor', 'contempt', 'or', 'claimd', 'thou', 'slept', 'so', 'faithful', 'i'] ...\n",
            "Tokens para o tokenizer 10: ['that', 'poor', 'contempt', 'or', 'claimd', 'thou', 'slept', 'so', 'faithful', 'i'] ...\n"
          ]
        }
      ]
    },
    {
      "cell_type": "markdown",
      "source": [
        "Stop-words Removal"
      ],
      "metadata": {
        "id": "NVGTZb21zKiH"
      }
    },
    {
      "cell_type": "code",
      "source": [
        "def stop(linha):\n",
        "    sw = stopwords.words('english')\n",
        "    tokenized_words = nltk.word_tokenize(linha)\n",
        "    nostopwords_text = [word for word in tokenized_words if not word.lower() in sw]\n",
        "    return ' '.join(nostopwords_text)"
      ],
      "metadata": {
        "id": "N49bTLdKzLZt"
      },
      "execution_count": 385,
      "outputs": []
    },
    {
      "cell_type": "code",
      "source": [
        "with open(f'Shakespeare_Normalized_Tokenized02.txt', 'r') as infile:\n",
        "    sw = stopwords.words('english')\n",
        "    text = infile.read()\n",
        "    tokenized_words = nltk.word_tokenize(text)\n",
        "    nostopwords_text = [word for word in tokenized_words if not word.lower() in sw]\n",
        "    print(nostopwords_text)\n",
        "with open('Shakespeare_Normalized_Tokenized_StopWord.txt', 'w') as outfile:\n",
        "     outfile.write('\\n'.join(nostopwords_text))"
      ],
      "metadata": {
        "id": "xmKoRfKl4gTI",
        "colab": {
          "base_uri": "https://localhost:8080/"
        },
        "outputId": "eaea93fd-9993-43fe-b9bf-fcedb0d4aeb2"
      },
      "execution_count": 386,
      "outputs": [
        {
          "output_type": "stream",
          "name": "stdout",
          "text": [
            "['poor', 'contempt', 'claimd', 'thou', 'slept', 'faithful', 'may', 'contrive', 'father', 'defeated', 'queen', 'flesh', 'broke', 'puttance', 'expedition', 'house', 'ever', 'lament', 'stomach', 'butly', 'fury', 'knowing', 'everything', 'grew', 'daily', 'ever', 'great', 'strength', 'thought', 'bright', 'buds', 'mine', 'biondello', 'marry', 'may', 'pray', 'patience', 'king', 'lear', 'instant', 'common', 'maid', 'may', 'less', 'brave', 'gentleman', 'joiner', 'finds', 'us', 'wax', 'owe', 'full', 'presence', 'fooder', 'staves', 'remorsed', 'bridals', 'man', 'grace', 'every', 'business', 'tongue', 'thinking', 'contends', 'hath', 'respected', 'thee', 'biron', 'left', 'thee', 'ill', 'die', 'blessed', 'reasonable', 'nature', 'honour', 'bosom', 'safe', 'others', 'speedybirth', 'bill', 'forestem', 'richard', 'heart', 'questiond', 'enough', 'partier', 'forth', 'obsers', 'dpunishd', 'hate', 'restraints', 'would', 'got', 'partly', 'autolycus', 'hath', 'sat', 'love', 'within', 'man', 'foul', 'prayers', 'much', 'thus', 'thee', 'ever', 'thought', 'make', 'wise', 'exclaim', 'sure', 'say', 'well', 'like', 'dotage', 'fixed', 'cease', 'let', 'mine', 'eyes', 'may', 'straight', 'sole', 'sword', 'conveyard', 'dustconfounded', 'land', 'command', 'puissant', 'griefs', 'dead', 'till', 'shall', 'fail', 'sister', 'true', 'good', 'see', 'hath', 'heard', 'midwife', 'loud', 'service', 'thy', 'sweetly', 'daughter', 'got', 'single', 'strange', 'words', 'pent', 'steed', 'stay', 'us', 'hath', 'brought', 'milthiness', 'guiderius', 'lord', 'shall', 'part', 'well', 'shall', 'hands', 'let', 'us', 'taken', 'thou', 'weights', 'return', 'mine', 'ring', 'ere', 'dangerous', 'good', 'way', 'swear', 'bears', 'kin', 'islands', 'sisters', 'speech', 'would', 'deny', 'force', 'grant', 'abhorson', 'thou', 'art', 'earth', 'villain', 'reserves', 'keeping', 'talbot', 'king', 'henry', 'viii', 'lead', 'kent', 'yet', 'ease', 'truly', 'numbers', 'talk', 'death', 'name', 'hot', 'years', 'far', 'good', 'general', 'make', 'buried', 'vacus', 'arrest', 'timon', 'stay', 'sere', 'hath', 'dangerous', 'grace', 'sail', 'breath', 'knees', 'broke', 'deeds', 'would', 'thy', 'husband', 'alack', 'speak', 'pluck', 'men', 'thy', 'abroad', 'doth', 'go', 'cassius', 'desire', 'calld', 'ballant', 'cassius', 'bardolph', 'tost', 'take', 'madder', 'duke', 'york', 'would', 'ready', 'advice', 'say', 'chaste', 'second', 'neris', 'blessed', 'france', 'thy', 'speech', 'know', 'antipholus', 'ephesus', 'outlive', 'lady', 'philosophy', 'gentlemen', 'upon', 'wrongs', 'despised', 'sit', 'thee', 'duke', 'gloucesters', 'name', 'look', 'thee', 'thee', 'wear', 'noblemans', 'bandible', 'pardon', 'thousand', 'embure', 'hath', 'contemnd', 'uneven', 'day', 'bend', 'unkind', 'post', 'ajax', 'mattle', 'strict', 'cuttances', 'cut', 'slept', 'fellow', 'said', 'found', 'lordship', 'hope', 'mark', 'antony', 'done', 'would', 'sose', 'minute', 'way', 'ingrateful', 'brook', 'marcellus', 'tell', 'us', 'break', 'hear', 'every', 'shore', 'deny', 'thee', 'sir', 'must', 'bear', 'run', 'ill', 'put', 'dangerous', 'happy', 'judgments', 'fort', 'wretch', 'qualities', 'death', 'together', 'take', 'sword', 'demetrius', 'come', 'go', 'thy', 'wreck', 'aumerle', 'know', 'valiant', 'world', 'fear', 'make', 'cause', 'bristing', 'sorry', 'behold', 'friend', 'deed', 'threw', 'boy', 'king', 'idar', 'willoughby', 'wouldst', 'thou', 'speak', 'gower', 'poor', 'queen', 'leave', 'along', 'capulet', 'good', 'sir', 'make', 'pen', 'meeding', 'trouble', 'provide', 'breast', 'use', 'wearing', 'behind', 'old', 'looks', 'man', 'begin', 'city', 'cases', 'art', 'held', 'go', 'valentine', 'sir', 'state', 'tell', 'never', 'falln', 'caesar', 'second', 'murderer', 'lord', 'virtuous', 'scotland', 'good', 'chamber', 'shepherd', 'second', 'murderer', 'like', 'let', 'go', 'norfolk', 'well', 'come', 'thy', 'sweet', 'brother', 'helena', 'entreatable', 'rutlands', 'island', 'beauty', 'hearts', 'fixed', 'seagood', 'wife', 'since', 'one', 'robbd', 'ready', 'bull', 'done', 'tonight', 'shall', 'wife', 'guards', 'conistering', 'faction', 'bassanio', 'come', 'hope', 'friar', 'farewell', 'knew', 'bloody', 'thereof', 'must', 'undo', 'wrong', 'thee', 'pluck', 'sighs', 'empty', 'love', 'second', 'gentleman', 'france', 'thersitania', 'would', 'kill', 'solemnity', 'know', 'beseech', 'fear', 'please', 'two', 'hear', 'sir', 'countess', 'master', 'may', 'potent', 'ancient', 'face', 'owed', 'came', 'love', 'set', 'brookgast', 'thyself', 'eat', 'excellent', 'time', 'malvolio', 'say', 'good', 'sir', 'john', 'fair', 'emilia', 'dead', 'malvolio', 'still', 'eer', 'good', 'bloody', 'difference', 'like', 'thee', 'fought', 'line', 'master', 'thou', 'bearst', 'honour', 'ten', 'go', 'sweet', 'god', 'proud', 'us', 'wemper', 'glendower', 'ill', 'see', 'thine', 'eyes', 'best', 'though', 'construct', 'saying', 'friend', 'heart', 'thee', 'lord', 'talbot', 'reason', 'would', 'bear', 'swiftness', 'world', 'king', 'john', 'true', 'mother', 'womans', 'house', 'true', 'amen', 'full', 'gold', 'shall', 'peerled', 'husband', 'lucius', 'tis', 'loyal', 'soul', 'free', 'demural', 'youth', 'chain', 'slew', 'vision', 'cleopatra', 'fight', 'hope', 'madam', 'falstaff', 'shes', 'fall', 'dullars', 'fault', 'let', 'ask', 'guilty', 'place', 'master', 'ford', 'confess', 'would', 'chid', 'fame', 'deliberate', 'men', 'together', 'ajax', 'know', 'host', 'per', 'tis', 'babble', 'bed', 'unrunish', 'stormed', 'upon', 'slire', 'two', 'youths', 'seems', 'england', 'would', 'rest', 'paris', 'cassio', 'celia', 'tis', 'effect', 'since', 'must', 'find', 'master', 'alike', 'gloucester', 'open', 'thy', 'heart', 'back', 'hope', 'use', 'prithee', 'let', 'go', 'brutus', 'much', 'count', 'day', 'must', 'raise', 'layful', 'peace', 'coriolanus', 'let', 'us', 'would', 'see', 'ripe', 'mark', 'antony', 'might', 'stayd', 'met', 'triumphant', 'cousin', 'world', 'whose', 'parties', 'two', 'bodies', 'discharge', 'glumber', 'perfect', 'tower', 'octavius', 'caesar', 'part', 'tame', 'balthasar', 'line', 'gave', 'highness', 'hear', 'single', 'spirit', 'business', 'plant', 'flives', 'son', 'even', 'open', 'conusteries', 'thinking', 'grave', 'ship', 'neer', 'break', 'humphreys', 'eyes', 'poor', 'dear', 'party', 'make', 'chamber', 'hospish', 'shameless', 'frozen', 'pride', 'name', 'light', 'plot', 'legely', 'said', 'glimmed', 'argument', 'sweet', 'fears', 'mouth', 'great', 'estimation', 'would', 'run', 'tis', 'fit', 'tis', 'talk', 'king', 'henry', 'v', 'must', 'see', 'gost', 'unhappy', 'woe', 'king', 'john', 'paris', 'fair', 'duchess', 'nay', 'ill', 'ever', 'throw', 'honour', 'othello', 'good', 'morrow', 'amen', 'cressida', 'stop', 'great', 'streets', 'follow', 'grace', 'shall', 'scruple', 'thou', 'art', 'sit', 'still', 'straight', 'king', 'lear', 'one', 'loyal', 'love', 'weddingbody', 'touchest', 'thee', 'pray', 'henceforwards', 'submiss', 'truth', 'though', 'throne', 'lives', 'mockd', 'pardon', 'untold', 'attore', 'sack', 'lop', 'shrum', 'preserved', 'spirits', 'brimfibed', 'voices', 'early', 'enough', 'macbeth', 'let', 'withdraw', 'debour', 'branch', 'ere', 'day', 'prevaild', 'penny', 'merry', 'tongue', 'exploits', 'fools', 'look', 'veins', 'king', 'lear', 'bell', 'beseems', 'wife', 'canst', 'thou', 'see', 'lend', 'part', 'banquo', 'doth', 'wonderful', 'maletration', 'mine', 'torch', 'bloody', 'kingdom', 'rogue', 'condemnd', 'may', 'dares', 'respect', 'let', 'bound', 'quite', 'straight', 'child', 'buy', 'whose', 'noble', 'occasion', 'hath', 'impudent', 'without', 'life', 'married', 'words', 'keeps', 'suitors', 'cases', 'heart', 'shall', 'break', 'thy', 'bloody', 'load', 'every', 'man', 'much', 'sign', 'show', 'angerous', 'brother', 'tower', 'whilst', 'present', 'continual', 'gates', 'justice', 'enemy', 'sicinius', 'french', 'letters', 'indeed', 'bound', 'fair', 'says', 'fair', 'left', 'highest', 'branch', 'gentleman', 'praised', 'unvile', 'without', 'eye', 'ground', 'know', 'likey', 'queen', 'elizabeth', 'man', 'shall', 'choked', 'see', 'whiles', 'nature', 'fanny', 'little', 'fault', 'lightly', 'read', 'thus', 'wellmet', 'whiles', 'upon', 'son', 'blind', 'damned', 'thy', 'bonds', 'second', 'citizen', 'first', 'lord', 'removed', 'speak', 'host', 'loath', 'amazedgo', 'parted', 'hands', 'know', 'marshally', 'vile', 'haste', 'noble', 'hand', 'used', 'one', 'naked', 'husband', 'stars', 'one', 'cassius', 'thy', 'offerd', 'bone', 'silent', 'trifles', 'unquiet', 'shall', 'commanded', 'rise', 'present', 'peace', 'knowst', 'thou', 'bring', 'love', 'sleep', 'command', 'thy', 'hand', 'wit', 'conceits', 'bed', 'doth', 'find', 'dangerous', 'diomed', 'choked', 'low', 'daughter', 'hecuba', 'second', 'lord', 'oaths', 'seems', 'children', 'take', 'defendant', 'name', 'thou', 'shouldst', 'eat', 'speak', 'day', 'indeed', 'troth', 'lord', 'know', 'drunk', 'welcome', 'unless', 'seemeth', 'table', 'cousin', 'hubert', 'present', 'obedience', 'claughterd', 'time', 'upon', 'safety', 'reporters', 'faces', 'hath', 'told', 'come', 'distracting', 'prospero', 'aeneas', 'thou', 'man', 'traitor', 'hectors', 'hatch', 'fit', 'happy', 'life', 'civil', 'stone', 'wonderd', 'point', 'make', 'news', 'et', 'dolour', 'liege', 'wise', 'high', 'run', 'princes', 'content', 'run', 'cold', 'measure', 'manage', 'glorious', 'charge', 'sir', 'ill', 'asleep', 'mercutio', 'would', 'regreet', 'tribunes', 'suffoce', 'third', 'gentleman', 'cousin', 'sir', 'john', 'northumberland', 'loves', 'well', 'comes', 'royal', 'inservant', 'emilia', 'pardon', 'madam', 'best', 'take', 'sun', 'soonmans', 'stomach', 'says', 'famished', 'nurse', 'beat', 'purpose', 'make', 'passage', 'sweetest', 'knights', 'pluck', 'huntred', 'feebleness', 'subdued', 'title', 'ill', 'walk', 'hands', 'heart', 'thou', 'swearst', 'thee', 'duke', 'vincentio', 'rust', 'trazards', 'thou', 'hast', 'glad', 'shine', 'two', 'book', 'sir', 'saw', 'em', 'pipe', 'smock', 'performd', 'must', 'joind', 'unto', 'noving', 'bear', 'bringing', 'winged', 'one', 'recreantly', 'peace', 'make', 'field', 'wounded', 'shall', 'head', 'give', 'thy', 'recompense', 'death', 'else', 'resolved', 'ground', 'lieutenant', 'fares', 'thee', 'command', 'pistol', 'strumpet', 'name', 'untot', 'philomelius', 'lay', 'garland', 'good', 'caesar', 'sweet', 'good', 'stocks', 'marry', 'words', 'thy', 'proud', 'people', 'want', 'unhappy', 'sights', 'revenge', 'means', 'honour', 'flesh', 'ajax', 'fair', 'woes', 'ill', 'never', 'play', 'kind', 'whos', 'prey', 'thy', 'shoulder', 'gold', 'point', 'soldier', 'got', 'king', 'philip', 'peace', 'subjects', 'laughmans', 'crown', 'sir', 'house', 'king', 'second', 'lord', 'thinkest', 'showledge', 'make', 'month', 'better', 'causes', 'hes', 'dog', 'may', 'say', 'every', 'beached', 'courtier', 'brutus', 'cail', 'privy', 'face', 'may', 'charge', 'thing', 'leader', 'offers', 'stoop', 'upon', 'good', 'hands', 'waits', 'dispite', 'mother', 'offer', 'indifferents', 'dost', 'thou', 'sting', 'noble', 'house', 'thy', 'household', 'shepherd', 'bolderd', 'coveration', 'whose', 'offence', 'peer', 'beseeming', 'packet', 'speakings', 'tonight', 'gives', 'minds', 'lawyers', 'greatness', 'son', 'would', 'flatterd', 'thee', 'mine', 'enemy', 'noblest', 'hope', 'never', 'read', 'send', 'daggers', 'government', 'ever', 'passion', 'doth', 'portent', 'feed', 'try', 'soldiers', 'lords', 'quick', 'lets', 'wish', 'palms', 'leave', 'thee', 'another', 'cause', 'three', 'taking', 'circumstance', 'imogen', 'romeo', 'strike', 'without', 'state', 'iago', 'sir', 'put', 'mirror', 'octavius', 'caesar', 'come', 'fellow', 'call', 'lips', 'law', 'arms', 'whilst', 'may', 'wherefore', 'take', 'thy', 'judgment', 'nature', 'ere', 'come', 'heaven', 'lord', 'bohemia', 'antonio', 'comes', 'capulet', 'cassius', 'please', 'lord', 'lose', 'earthly', 'days', 'thine', 'rather', 'army', 'reputation', 'sir', 'toby', 'belch', 'true', 'sirrah', 'let', 'us', 'blame', 'good', 'paish', 'adders', 'comes', 'hither', 'duke', 'york', 'prince', 'dare', 'lord', 'leave', 'sir', 'lady', 'macbeth', 'rosalind', 'stay', 'gentle', 'judgment', 'seen', 'state', 'worthy', 'patience', 'execute', 'prithee', 'gentlemen', 'came', 'command', 'mercutio', 'king', 'hath', 'heard', 'us', 'fall', 'knows', 'pieces', 'angry', 'vassals', 'crimon', 'ho', 'hes', 'four', 'terrible', 'breath', 'good', 'night', 'man', 'went', 'father', 'language', 'hath', 'thy', 'noble', 'plucking', 'believed', 'powers', 'mind', 'thereof', 'unless', 'thou', 'means', 'tonight', 'feed', 'mans', 'reports', 'debtor', 'shall', 'stroked', 'hunter', 'frower', 'one', 'yesterday', 'falsely', 'disclose', 'feast', 'thou', 'shouldst', 'bear', 'never', 'made', 'thee', 'ensue', 'london', 'lusty', 'island', 'even', 'point', 'rax', 'rome', 'warwick', 'yare', 'greatness', 'good', 'man', 'expension', 'right', 'beguiled', 'toil', 'contempt', 'sacred', 'soul', 'devil', 'possessd', 'like', 'full', 'moderate', 'ships', 'fantasy', 'unto', 'honour', 'tranio', 'therefore', 'thou', 'art', 'wife', 'mean', 'convenient', 'kingdom', 'said', 'father', 'night', 'hath', 'joy', 'gallant', 'infant', 'seas', 'kind', 'norfolk', 'hath', 'firm', 'wind', 'physic', 'pantion', 'us', 'ranged', 'realm', 'dug', 'earth', 'therefore', 'repent', 'state', 'subdue', 'swears', 'sister', 'thy', 'heart', 'bear', 'thanks', 'abated', 'thee', 'malice', 'tongue', 'guilty', 'owed', 'thee', 'teaching', 'heavier', 'fates', 'death', 'grace', 'chid', 'poor', 'hair', 'kiss', 'field', 'meat', 'thou', 'seven', 'blow', 'letters', 'turn', 'virtues', 'ye', 'dead', 'melted', 'legs', 'contracted', 'ones', 'beer', 'whose', 'aim', 'must', 'supposed', 'blind', 'isabella', 'warrior', 'sway', 'sir', 'hugh', 'evans', 'things', 'thou', 'hast', 'eating', 'helen', 'calld', 'hermia', 'life', 'welldiscretion', 'oer', 'way', 'sicinius', 'never', 'discredit', 'master', 'adriano', 'de', 'armado', 'whats', 'matter', 'theseus', 'may', 'washed', 'theres', 'conduct', 'spirit', 'horns', 'hostess', 'come', 'lord', 'proper', 'countrys', 'wife', 'cure', 'saint', 'beggars', 'fellow', 'oaths', 'besides', 'kissed', 'body', 'tranio', 'hear', 'excellent', 'words', 'gainst', 'whoreson', 'fair', 'saturnine', 'bark', 'fear', 'tew', 'throws', 'titus', 'queen', 'margaret', 'coriolanus', 'well', 'look', 'leave', 'none', 'rough', 'things', 'second', 'pirator', 'thoughts', 'true', 'sir', 'rich', 'thats', 'picture', 'mood', 'policy', 'please', 'thou', 'wert', 'glad', 'hale', 'deadly', 'business', 'shallow', 'deliverd', 'king', 'lamented', 'said', 'moon', 'let', 'noble', 'fortune', 'arm', 'messenger', 'ay', 'sir', 'seas', 'true', 'base', 'circumstance', 'swain', 'doth', 'give', 'daughter', 'wedded', 'emilia', 'loss', 'guilty', 'eyes', 'duke', 'vincentio', 'second', 'murderer', 'realm', 'norfolk', 'calls', 'votenarding', 'man', 'bear', 'throne', 'lodging', 'wit', 'clown', 'one', 'sir', 'title', 'little', 'clock', 'yet', 'patch', 'hope', 'unlove', 'two', 'schoolmaster', 'brutish', 'evers', 'hast', 'thou', 'hear', 'poor', 'hope', 'nought', 'conceive', 'thee', 'custom', 'go', 'titus', 'andronicus', 'doth', 'coriolanus', 'poor', 'french', 'gainst', 'foot', 'fear', 'enough', 'yet', 'peers', 'strings', 'dip', 'antony', 'secret', 'son', 'would', 'know', 'buds', 'murmured', 'valentine', 'duke', 'put', 'fallings', 'hes', 'canopy', 'discovery', 'faithful', 'friend', 'didst', 'thou', 'dear', 'lord', 'grief', 'let', 'us', 'call', 'wife', 'earth', 'good', 'morrow', 'ill', 'see', 'remuneration', 'hamlet', 'hes', 'man', 'caesar', 'sure', 'every', 'strangeday', 'meant', 'pound', 'followd', 'tomb', 'doth', 'face', 'see', 'third', 'servant', 'hurt', 'loved', 'show', 'hence', 'even', 'thing', 'crimes', 'though', 'invitely', 'bare', 'special', 'husband', 'fresh', 'sweetly', 'towers', 'night', 'came', 'right', 'fableservice', 'lock', 'aufidius', 'hes', 'love', 'well', 'best', 'great', 'lord', 'ever', 'lay', 'downlight', 'inct', 'fellow', 'mother', 'shall', 'confused', 'peace', 'help', 'words', 'child', 'awhile', 'men', 'heaven', 'thee', 'let', 'scorn', 'fled', 'must', 'good', 'chin', 'athallot', 'vessel', 'tis', 'unwell', 'kept', 'better', 'see', 'would', 'begin', 'enfraction', 'captive', 'die', 'villain', 'exhibition', 'habit', 'wear', 'jealously', 'mouth', 'christenders', 'baptista', 'great', 'bond', 'broke', 'brought', 'excuse', 'king', 'philip', 'know', 'remember', 'cassius', 'mistress', 'fellow', 'natural', 'commoner', 'title', 'anne', 'page', 'thou', 'needst', 'supplied', 'rest', 'fortune', 'loves', 'son', 'see', 'time', 'queens', 'commission', 'thy', 'better', 'theres', 'good', 'fought', 'upon', 'sweet', 'queen', 'king', 'may', 'let', 'wished', 'bounties', 'soothsay', 'ferring', 'come', 'fear', 'horatio', 'sir', 'shippus', 'yuts', 'fast', 'vile', 'est', 'clown', 'thou', 'fortune', 'twice', 'put', 'blood', 'father', 'talbots', 'death', 'excellent', 'fephers', 'letter', 'lose', 'panish', 'second', 'blood', 'blessing', 'pretty', 'cause', 'brutus', 'take', 'nurse', 'bedford', 'marry', 'see', 'porrest', 'good', 'grecian', 'ill', 'song', 'till', 'service', 'must', 'outsage', 'daughter', 'titanus', 'goodly', 'interpretation', 'together', 'behind', 'leonato', 'would', 'keeping', 'even', 'control', 'comfort', 'see', 'like', 'audient', 'varlet', 'cressida', 'farewell', 'brutus', 'disordered', 'neither', 'world', 'would', 'senting', 'bosom', 'purpose', 'brutus', 'even', 'sharp', 'goodly', 'care', 'milan', 'would', 'know', 'lists', 'masters', 'eat', 'glory', 'show', 'cost', 'slave', 'raffed', 'one', 'another', 'weepd', 'death', 'exeter', 'macbeth', 'shows', 'highdangerous', 'monster', 'women', 'might', 'scaped', 'celia', 'mine', 'though', 'may', 'presently', 'seepant', 'know', 'worthy', 'care', 'unless', 'boys', 'hold', 'upon', 'varrons', 'sights', 'cry', 'sir', 'john', 'could', 'son', 'dare', 'renish', 'thou', 'hast', 'made', 'several', 'judgment', 'part', 'call', 'upon', 'mothers', 'shadows', 'affairs', 'ill', 'write', 'lordship', 'sword', 'drive', 'present', 'cost', 'eyeless', 'toes', 'hes', 'proclamated', 'world', 'take', 'rest', 'man', 'trup', 'field', 'talbot', 'thou', 'shalt', 'put', 'heavens', 'bring', 'patroclus', 'speed', 'know', 'whither', 'confidence', 'gaming', 'merry', 'weeping', 'red', 'dignity', 'slip', 'good', 'familiars', 'remembrance', 'crept', 'whose', 'ancestor', 'hath', 'seen', 'sword', 'would', 'queen', 'perditas', 'joy', 'wall', 'true', 'break', 'friends', 'virtuous', 'fortune', 'majestys', 'contemptuous', 'armies', 'news', 'valentine', 'yes', 'lord', 'twill', 'go', 'word', 'banquet', 'spirit', 'altwinged', 'like', 'strange', 'princely', 'honour', 'lose', 'tell', 'clamorous', 'tedious', 'profession', 'many', 'speak', 'dissembling', 'horrible', 'assumes', 'golding', 'well', 'menenius', 'threatening', 'mortal', 'man', 'womans', 'loyal', 'deserving', 'name', 'shoes', 'second', 'servant', 'sailors', 'hector', 'shall', 'give', 'life', 'make', 'delicate', 'men', 'profit', 'motion', 'claudio', 'madam', 'kind', 'boy', 'master', 'slender', 'man', 'dinner', 'every', 'man', 'expeditions', 'audit', 'relieve', 'torchers', 'earth', 'speed', 'would', 'gain', 'took', 'upon', 'maiden', 'bondmaid', 'mould', 'pay', 'mamber', 'fit', 'conspirable', 'ope', 'coward', 'octavius', 'caesar', 'cast', 'rape', 'breathe', 'sir', 'cleopatra', 'hast', 'thou', 'vouchsafed', 'signior', 'benedick', 'comes', 'sweet', 'coronation', 'ships', 'carriage', 'modesty', 'shall', 'proud', 'sleep', 'say', 'though', 'sir', 'whos', 'amazed', 'bosom', 'noble', 'kingdom', 'wholesome', 'father', 'conjecture', 'gracious', 'stars', 'selfbehelding', 'king', 'lear', 'france', 'evil', 'befalln', 'worse', 'chid', 'horsemen', 'honour', 'thy', 'reason', 'soft', 'us', 'reverend', 'right', 'portial', 'opinion', 'earl', 'wicked', 'chimney', 'love', 'tell', 'ill', 'light', 'way', 'whose', 'seat', 'smoke', 'could', 'charge', 'steeps', 'time', 'malvolio', 'love', 'since', 'hands', 'break', 'goodness', 'henry', 'bolingbroke', 'goodman', 'wife', 'cause', 'one', 'estate', 'distrust', 'sovereign', 'base', 'banishd', 'day', 'williams', 'lord', 'motive', 'lord', 'antonio', 'mind', 'mountain', 'grave', 'time', 'may', 'life', 'children', 'ring', 'justice', 'put', 'chairs', 'thee', 'bully', 'twained', 'orb', 'practises', 'melody', 'gilting', 'compound', 'things', 'third', 'gentleman', 'hath', 'done', 'door', 'desires', 'tonight', 'pray', 'therefore', 'hangd', 'without', 'many', 'things', 'ophelia', 'theres', 'mine', 'timon', 'thats', 'mischief', 'hath', 'pity', 'yet', 'bought', 'good', 'desire', 'ground', 'thou', 'wert', 'sea', 'fair', 'hear', 'drunk', 'thee', 'hear', 'angelo', 'yet', 'youll', 'come', 'first', 'senator', 'entertainment', 'fellow', 'seemd', 'spoke', 'shall', 'bring', 'troilus', 'peasantly', 'kings', 'tent', 'duke', 'vincentio', 'sir', 'thy', 'wife', 'shall', 'hurry', 'better', 'may', 'ruudership', 'napkin', 'oberon', 'thou', 'know', 'twenty', 'loves', 'sir', 'john', 'richards', 'head', 'shall', 'shake', 'head', 'give', 'drop', 'jealousy', 'vein', 'importunite', 'something', 'king', 'angry', 'blushd', 'monour', 'makes', 'us', 'fair', 'et', 'perdution', 'hear', 'daughter', 'drop', 'moon', 'fement', 'extempority', 'shall', 'seem', 'sight', 'norfolk', 'live', 'ground', 'tongue', 'shall', 'brief', 'fire', 'tend', 'particular', 'due', 'mercy', 'remain', 'john', 'gaunt', 'shall', 'rid', 'thee', 'haild', 'would', 'dispose', 'two', 'miles', 'thou', 'hast', 'make', 'worth', 'compexaration', 'city', 'shall', 'fly', 'ferminence', 'lies', 'honourable', 'higher', 'chain', 'king', 'request', 'charge', 'whither', 'appear', 'goodly', 'voicehis', 'daughters', 'shylock', 'anne', 'page', 'leave', 'bisk', 'drink', 'rome', 'purposes', 'kings', 'nhambly', 'fancy', 'dimmd', 'maidens', 'phoetician', 'king', 'person', 'many', 'ambassadors', 'france', 'thou', 'shalt', 'break', 'rage', 'till', 'fire', 'world', 'sigh', 'thee', 'life', 'granted', 'darest', 'end', 'earnest', 'nay', 'aid', 'obsurding', 'open', 'duty', 'kingdom', 'propose', 'milkings', 'strength', 'without', 'discourse', 'fie', 'ever', 'bear', 'sleepy', 'hand', 'goodly', 'master', 'wanton', 'air', 'like', 'walrer', 'bianca', 'though', 'great', 'thine', 'opinion', 'embolling', 'wars', 'found', 'birth', 'blinds', 'kind', 'hand', 'according', 'advantage', 'hoist', 'guns', 'drame', 'every', 'knaves', 'offer', 'hath', 'prayd', 'husband', 'drift', 'thinking', 'sebastian', 'days', 'talk', 'care', 'patient', 'menenius', 'say', 'well', 'indeed', 'shall', 'mine', 'peace', 'gave', 'stand', 'varros', 'murderer', 'well', 'say', 'didst', 'thou', 'must', 'eat', 'thee', 'come', 'queen', 'even', 'came', 'run', 'could', 'report', 'chaft', 'shall', 'bear', 'grounds', 'beseech', 'would', 'hang', 'provost', 'proparable', 'pitch', 'could', 'point', 'prefer', 'duke', 'york', 'saw', 'tale', 'heaven', 'fled', 'thee', 'surveyor', 'deed', 'together', 'face', 'bear', 'throat', 'soldiers', 'long', 'outscorn', 'fashions', 'icfortune', 'worst', 'consume', 'adversaryday', 'change', 'writing', 'moulded', 'boy', 'oaks', 'wooer', 'bag', 'would', 'whats', 'like', 'misery', 'swear', 'behind', 'ready', 'fraught', 'beatrice', 'troth', 'tis', 'guilty', 'ground', 'dostard', 'caius', 'man', 'anne', 'page', 'shall', 'cure', 'give', 'friends', 'without', 'great', 'arm', 'norfolk', 'tell', 'provide', 'good', 'talbot', 'speak', 'ere', 'bring', 'thou', 'go', 'go', 'boatswain', 'thousand', 'penalty', 'madam', 'extreme', 'hip', 'awoment', 'coloured', 'ingenious', 'england', 'rivers', 'thus', 'knowing', 'horses', 'ceases', 'riding', 'give', 'sad', 'lady', 'show', 'fearful', 'scourge', 'singular', 'gageous', 'poor', 'suffer', 'gentle', 'lord', 'hastings', 'strength', 'shall', 'seethe', 'talbot', 'alas', 'malvolio', 'back', 'practise', 'trees', 'three', 'horrible', 'city', 'hungs', 'shrift', 'romeo', 'wear', 'court', 'shall', 'could', 'restore', 'come', 'anon', 'therefore', 'stand', 'mans', 'futures', 'dependance', 'side', 'ireland', 'prove', 'thee', 'hath', 'stolen', 'poor', 'innocent', 'roman', 'turns', 'sisters', 'soul', 'cretes', 'say', 'makes', 'tear', 'sit', 'sea', 'fall', 'thy', 'good', 'brother', 'would', 'deliver', 'mine', 'ears', 'nobles', 'master', 'brought', 'thee', 'lives', 'horse', 'crown', 'peoples', 'arms', 'best', 'take', 'thy', 'holy', 'stroke', 'queen', 'good', 'morrow', 'uncle', 'margaret', 'gentlemen', 'let', 'us', 'english', 'gloucester', 'lordship', 'beauty', 'hath', 'descripted', 'hath', 'perpressd', 'feeble', 'english', 'day', 'tomorrow', 'page', 'indeed', 'shes', 'profit', 'desdemona', 'god', 'long', 'never', 'draw', 'every', 'one', 'made', 'book', 'wise', 'love', 'king', 'henry', 'viii', 'macbeth', 'true', 'thy', 'mistress', 'france', 'hath', 'last', 'love', 'boy', 'watch', 'thus', 'fear', 'every', 'seized', 'word', 'ay', 'permit', 'chamberlain', 'never', 'dare', 'bastard', 'beyond', 'foot', 'face', 'volscians', 'mother', 'pursues', 'mother', 'since', 'birmd', 'streets', 'rich', 'confers', 'new', 'soeth', 'going', 'together', 'last', 'voman', 'must', 'outlive', 'greatness', 'friend', 'steal', 'thee', 'petruchio', 'think', 'come', 'discretion', 'seen', 'go', 'yet', 'iago', 'make', 'marriage', 'sir', 'boyet', 'ay', 'sir', 'john', 'many', 'field', 'days', 'gone', 'troilus', 'longer', 'thy', 'hand', 'weighty', 'wind', 'emity', 'beard', 'help', 'jollofid', 'pistol', 'brother', 'let', 'make', 'virtues', 'tell', 'name', 'gloucester', 'men', 'flint', 'honour', 'confined', 'spake', 'together', 'whole', 'unhappy', 'strains', 'become', 'thee', 'let', 'purpose', 'cold', 'knees', 'find', 'reasonable', 'teeth', 'might', 'answer', 'hath', 'murderd', 'water', 'best', 'bold', 'second', 'servingman', 'horatio', 'thats', 'yet', 'glad', 'therefore', 'never', 'play', 'hang', 'back', 'edgar', 'sound', 'absence', 'lichard', 'part', 'nurse', 'ay', 'remain', 'cinna', 'wish', 'lord', 'knew', 'friend', 'well', 'shall', 'gait', 'without', 'people', 'duke', 'york', 'tis', 'cleft', 'together', 'duchess', 'york', 'keep', 'fair', 'longest', 'misbelieves', 'thing', 'art', 'thou', 'true', 'king', 'john', 'frond', 'strength', 'saw', 'wrongfully', 'arms', 'pillows', 'sing', 'crimson', 'love', 'beatrice', 'ill', 'see', 'reasons', 'fool', 'affright', 'lady', 'macbeth', 'resolved', 'ainel', 'stay', 'might', 'find', 'entertainment', 'number', 'well', 'let', 'suffer', 'doublet', 'thou', 'wouldst', 'proceed', 'dauphin', 'true', 'pray', 'away', 'nurse', 'pray', 'henceforth', 'high', 'sweeter', 'done', 'earl', 'douglas', 'feed', 'exhibition', 'honour', 'thee', 'tis', 'sweat', 'saw', 'thee', 'strength', 'mistress', 'quickly', 'conquering', 'parliament', 'army', 'would', 'coming', 'mad', 'come', 'know', 'well', 'learn', 'lay', 'tune', 'brains', 'day', 'murder', 'fair', 'eyes', 'cause', 'clifford', 'tedious', 'happiness', 'come', 'thy', 'foot', 'short', 'drunk', 'page', 'sir', 'maid', 'pray', 'disdain', 'safe', 'countrymen', 'therefore', 'naples', 'eed', 'marcus', 'andronicus', 'withdraw', 'get', 'thy', 'brothers', 'shame', 'king', 'henry', 'vi', 'come', 'good', 'lord', 'rosaline', 'worse', 'leawer', 'unless', 'play', 'behavior', 'tidings', 'let', 'know', 'face', 'york', 'tell', 'thats', 'ild', 'come', 'minding', 'went', 'peace', 'go', 'without', 'proud', 'truth', 'reads', 'known', 'thus', 'named', 'kent', 'lords', 'fown', 'changes', 'hope', 'today', 'survived', 'without', 'death', 'mine', 'husband', 'soon', 'sons', 'casted', 'sadness', 'guile', 'even', 'thou', 'art', 'honourable', 'bloody', 'look', 'handled', 'backs', 'oswald', 'fellow', 'thou', 'art', 'like', 'wrongd', 'man', 'may', 'die', 'unlove', 'desire', 'thee', 'phulish', 'serve', 'show', 'language', 'time', 'dream', 'cur', 'late', 'grace', 'bruised', 'vile', 'whose', 'arm', 'tonight', 'performance', 'might', 'weighd', 'appired', 'yield', 'clouds', 'wall', 'come', 'gentleman', 'get', 'watch', 'first', 'contrue', 'war', 'dispositiond', 'wisdom', 'end', 'whose', 'instrument', 'worst', 'claim', 'savage', 'duke', 'york', 'think', 'lady', 'shall', 'think', 'virtuous', 'leman', 'thee', 'deliver', 'ha', 'king', 'richard', 'iii', 'valiant', 'lady', 'heard', 'charging', 'minister', 'brains', 'address', 'precised', 'times', 'style', 'whether', 'true', 'dunghill', 'would', 'behold', 'mine', 'elder', 'grace', 'death', 'viola', 'would', 'grant', 'thee', 'ill', 'troilus', 'must', 'errand', 'give', 'past', 'abused', 'choice', 'makes', 'prosperous', 'cort', 'means', 'choke', 'deputy', 'deserved', 'put', 'alarum', 'slaver', 'son', 'death', 'marry', 'friend', 'meet', 'next', 'lord', 'men', 'sir', 'let', 'sigh', 'thy', 'soul', 'ran', 'thee', 'must', 'confined', 'honesty', 'upid', 'chiron', 'stir', 'faith', 'coins', 'well', 'eyes', 'head', 'duchess', 'york', 'duke', 'orsino', 'corrupt', 'army', 'sword', 'point', 'thousand', 'stations', 'fire', 'aim', 'discourser', 'void', 'drawn', 'yet', 'shall', 'go', 'since', 'please', 'majesty', 'duke', 'york', 'ill', 'poison', 'friendship', 'hope', 'truft', 'dost', 'made', 'good', 'succeeding', 'praise', 'hope', 'love', 'could', 'brutus', 'issue', 'bestowing', 'stuff', 'would', 'medicined', 'diomedes', 'give', 'deep', 'part', 'gage', 'deboth', 'pice', 'lord', 'look', 'apparition', 'mother', 'must', 'say', 'thought', 'noble', 'happy', 'spoils', 'first', 'gentleman', 'prithee', 'bick', 'away', 'parts', 'love', 'certain', 'death', 'smiles', 'tell', 'three', 'hours', 'meet', 'like', 'fool', 'loved', 'conceit', 'service', 'rounded', 'bitter', 'fortune', 'till', 'often', 'toes', 'abject', 'fit', 'safety', 'coming', 'rosalind', 'shes', 'publicly', 'fault', 'sir', 'cardinal', 'ip', 'enamoused', 'babe', 'stroke', 'true', 'mettle', 'king', 'caesar', 'lords', 'purpose', 'blind', 'much', 'worth', 'hair', 'doth', 'tell', 'hath', 'hot', 'grace', 'durish', 'queen', 'send', 'us', 'word', 'thus', 'well', 'obeyd', 'helens', 'name', 'provost', 'heart', 'underneared', 'look', 'tot', 'poet', 'shall', 'find', 'message', 'brought', 'lay', 'blessings', 'shall', 'swear', 'many', 'nobles', 'might', 'fall', 'tody', 'call', 'bodies', 'youth', 'men', 'perhaps', 'perform', 'stirring', 'sometimes', 'undergossed', 'induced', 'nature', 'heros', 'love', 'wlething', 'walls', 'king', 'john', 'ear', 'shine', 'duchess', 'solons', 'crownhearted', 'happiers', 'heels', 'third', 'servingman', 'drunken', 'brutus', 'would', 'pride', 'spaces', 'shrills', 'even', 'every', 'little', 'bad', 'king', 'beggar', 'hath', 'shadow', 'none', 'thou', 'ranking', 'falcon', 'thy', 'germans', 'grace', 'woman', 'must', 'timon', 'decrees', 'sister', 'less', 'clap', 'protest', 'mine', 'nobly', 'dead', 'like', 'love', 'ever', 'gloucesters', 'thunder', 'dream', 'leging', 'mouths', 'wales', 'duke', 'aumerle', 'call', 'befall', 'thee', 'nuptial', 'prince', 'joan', 'la', 'pucelle', 'good', 'sir', 'say', 'like', 'rank', 'mistress', 'heart', 'give', 'thy', 'womb', 'good', 'sir', 'would', 'daughter', 'give', 'disable', 'new', 'marriage', 'gives', 'thee', 'grace', 'taperboard', 'affected', 'chose', 'money', 'time', 'came', 'along', 'pluck', 'thee', 'longest', 'consliping', 'gentleman', 'emilia', 'man', 'begot', 'take', 'away', 'flight', 'blessing', 'judgment', 'looks', 'old', 'means', 'see', 'linger', 'drug', 'disprezage', 'rude', 'money', 'mischance', 'doth', 'spleen', 'arms', 'would', 'bear', 'thy', 'drum', 'coriolanus', 'well', 'afreed', 'majesty', 'proteus', 'beholding', 'enemy', 'enraged', 'argo', 'poor', 'labour', 'place', 'deputy', 'breathe', 'direct', 'ground', 'ere', 'widow', 'see', 'run', 'swears', 'bear', 'heart', 'confirmable', 'disposition', 'give', 'many', 'ambassadors', 'mighty', 'labour', 'blow', 'fortunes', 'king', 'today', 'eslace', 'malvolio', 'sirrah', 'say', 'whither', 'othello', 'give', 'office', 'head', 'lord', 'know', 'heavy', 'catch', 'iago', 'fresh', 'philous', 'first', 'soldier', 'therefore', 'peace', 'clown', 'let', 'thy', 'wayward', 'saw', 'withal', 'stay', 'brave', 'powerful', 'vineyards', 'hold', 'must', 'sir', 'john', 'sir', 'hugh', 'evans', 'marry', 'ill', 'raffet', 'death', 'ad', 'sport', 'cambrake', 'poor', 'thrumble', 'night', 'binnam', 'doth', 'snay', 'nether', 'piece', 'heaven', 'see', 'bear', 'condemn', 'company', 'without', 'heels', 'sorry', 'demand', 'approach', 'fell', 'dream', 'warrant', 'way', 'third', 'lord', 'welcome', 'wilt', 'thou', 'thus', 'dangerously', 'titus', 'andronicus', 'lets', 'charge', 'inkly', 'things', 'show', 'obey', 'say', 'king', 'henry', 'v', 'enough', 'one', 'age', 'hope', 'gone', 'sir', 'must', 'wear', 'jester', 'duke', 'sunday', 'ladies', 'face', 'hath', 'banished', 'till', 'execution', 'shadow', 'beauty', 'gone', 'lamentance', 'entertainment', 'lovell', 'within', 'things', 'service', 'bawd', 'way', 'must', 'pitiful', 'book', 'thind', 'tis', 'fled', 'yet', 'better', 'threatens', 'life', 'brightly', 'consign', 'together', 'alcibiades', 'yes', 'sirrah', 'seldom', 'living', 'many', 'gathers', 'though', 'streets', 'wrought', 'conquerer', 'daughter', 'honour', 'drowsing', 'husband', 'lysander', 'kingdom', 'norfolk', 'sir', 'would', 'mother', 'take', 'light', 'portia', 'make', 'enneared', 'loss', 'praise', 'disjack', 'say', 'fair', 'grace', 'slow', 'thee', 'tis', 'widows', 'ears', 'ill', 'seem', 'flowering', 'pisanio', 'speed', 'horatio', 'wears', 'doubt', 'change', 'england', 'first', 'gentleman', 'hast', 'thou', 'gone', 'fair', 'courtiers', 'high', 'kent', 'make', 'swear', 'like', 'husband', 'scrand', 'conquer', 'grace', 'spirits', 'knight', 'even', 'kingdom', 'sake', 'house', 'needs', 'break', 'like', 'way', 'like', 'ends', 'hills', 'use', 'lord', 'seem', 'longer', 'glove', 'rome', 'go', 'servants', 'unfold', 'porter', 'yes', 'master', 'robin', 'gold', 'schoolmaster', 'beget', 'fence', 'set', 'thine', 'arm', 'footing', 'unstayd', 'forlorn', 'times', 'sacreds', 'countenance', 'one', 'way', 'coming', 'revolt', 'morning', 'ragged', 'mutiny', 'salanio', 'doth', 'good', 'abuse', 'saint', 'margaret', 'yet', 'speak', 'love', 'foul', 'walked', 'peoples', 'order', 'antony', 'come', 'thou', 'art', 'manner', 'staff', 'man', 'husband', 'untid', 'thy', 'ever', 'stood', 'together', 'tell', 'entertainment', 'gracious', 'lord', 'presently', 'shall', 'swear', 'duke', 'vincentio', 'farewell', 'make', 'one', 'thing', 'ear', 'comes', 'shriety', 'men', 'lucio', 'dionyza', 'harm', 'neer', 'take', 'one', 'another', 'messenger', 'hand', 'come', 'luciana', 'second', 'senator', 'well', 'truth', 'purposes', 'gone', 'cinna', 'ye', 'sir', 'shell', 'hold', 'gold', 'thou', 'temples', 'anne', 'page', 'sweet', 'widow', 'sit', 'sweet', 'sovereign', 'fill', 'tardy', 'bloods', 'brutus', 'daylight', 'would', 'defend', 'dearest', 'hand', 'kills', 'prince', 'ids', 'glad', 'call', 'order', 'age', 'love', 'report', 'injury', 'man', 'stomach', 'assurance', 'like', 'rue', 'wheats', 'second', 'lord', 'therefore', 'ill', 'stain', 'desires', 'bear', 'varlet', 'noised', 'disclose', 'laying', 'draught', 'cheek', 'grace', 'gambon', 'death', 'two', 'murders', 'thoughts', 'knows', 'throice', 'officers', 'man', 'sing', 'would', 'knave', 'go', 'cloten', 'good', 'lord', 'knowledge', 'leave', 'presently', 'apemantus', 'think', 'shall', 'made', 'shall', 'make', 'appearance', 'king', 'lear', 'edwards', 'life', 'must', 'deny', 'stem', 'first', 'antonio', 'nay', 'banish', 'us', 'sir', 'fool', 'sir', 'kinder', 'thou', 'never', 'killst', 'tremble', 'privilege', 'creatures', 'see', 'citizens', 'plain', 'cur', 'measure', 'goodness', 'gods', 'romery', 'doe', 'breastbold', 'flatterers', 'esemble', 'sun', 'condemnd', 'myill', 'oclock', 'thou', 'sensual', 'deep', 'easy', 'welled', 'search', 'gloss', 'leaven', 'duke', 'vincentio', 'followo', 'issue', 'friends', 'lady', 'silent', 'offences', 'clother', 'see', 'would', 'appear', 'prince', 'henry', 'pray', 'leisure', 'sir', 'shall', 'resolute', 'warwick', 'entreat', 'beggd', 'upon', 'seaday', 'maked', 'us', 'boy', 'blame', 'last', 'seen', 'undoublet', 'short', 'guilty', 'thou', 'liest', 'wot', 'dinner', 'king', 'art', 'thou', 'faint', 'troilus', 'gods', 'officer', 'volume', 'made', 'first', 'device', 'thy', 'parents', 'takes', 'way', 'thee', 'fastst', 'thou', 'thy', 'meaner', 'name', 'whose', 'words', 'place', 'affair', 'obtainment', 'shall', 'never', 'forswear', 'give', 'brow', 'oer', 'hive', 'called', 'rust', 'ay', 'boy', 'call', 'father', 'countrys', 'remedy', 'rome', 'adverse', 'occasions', 'yet', 'single', 'sight', 'command', 'day', 'hands', 'pray', 'lord', 'speak', 'second', 'lord', 'present', 'shall', 'habitable', 'think', 'gone', 'seeming', 'must', 'appear', 'friends', 'albany', 'sir', 'take', 'pandarus', 'speed', 'lord', 'art', 'thou', 'day', 'imogen', 'troth', 'royal', 'closes', 'haste', 'wherefore', 'tells', 'blessing', 'cry', 'made', 'trumpet', 'sword', 'grow', 'thee', 'medry', 'uncle', 'milfords', 'hand', 'hath', 'much', 'undone', 'mighty', 'peers', 'sold', 'thus', 'man', 'open', 'good', 'ranks', 'thence', 'moved', 'fierce', 'withal', 'hold', 'vinegent', 'point', 'winks', 'upon', 'time', 'drink', 'impeopleness', 'orderly', 'entreat', 'wellblack', 'steed', 'contemplation', 'mocks', 'void', 'pandarus', 'ill', 'prepare', 'chance', 'hastings', 'dead', 'man', 'rome', 'theres', 'emblace', 'said', 'eyes', 'accept', 'several', 'earl', 'claudio', 'great', 'herble', 'tritor', 'turn', 'hearts', 'common', 'tale', 'thee', 'shake', 'begun', 'enemies', 'every', 'feast', 'plot', 'colder', 'knits', 'lines', 'enough', 'study', 'man', 'would', 'proceed', 'perishd', 'war', 'breast', 'like', 'man', 'mark', 'antony', 'well', 'honourable', 'two', 'king', 'hope', 'matter', 'ravenshead', 'volumnia', 'think', 'others', 'action', 'man', 'fluellen', 'many', 'hopes', 'concluded', 'straind', 'heard', 'beyond', 'ground', 'let', 'go', 'prince', 'henry', 'shall', 'hand', 'sir', 'selld', 'hearing', 'great', 'deed', 'claudio', 'alas', 'commend', 'part', 'curse', 'none', 'ill', 'none', 'brought', 'caius', 'shall', 'please', 'sleap', 'diseased', 'bitter', 'things', 'shall', 'everthrow', 'well', 'tis', 'shall', 'bid', 'sight', 'might', 'stand', 'leisure', 'melted', 'language', 'coriolanus', 'wherefore', 'volscous', 'hang', 'today', 'cronk', 'say', 'shes', 'bloody', 'use', 'rather', 'made', 'see', 'therefore', 'queen', 'hear', 'think', 'comes', 'consent', 'behind', 'hes', 'calld', 'must', 'directly', 'say', 'day', 'lie', 'heard', 'masters', 'comest', 'thou', 'promise', 'therefore', 'read', 'like', 'steal', 'thy', 'favour', 'tree', 'writ', 'tuking', 'cherubidling', 'pistol', 'go', 'satisfy', 'thy', 'thrifty', 'promises', 'henry', 'bolingbroke', 'true', 'extreme', 'idol', 'nature', 'whosore', 'hand', 'shall', 'prove', 'writer', 'swear', 'basers', 'letter', 'thorns', 'wood', 'arouse', 'one', 'malvolios', 'deathlived', 'minutes', 'go', 'foolish', 'envy', 'arrayd', 'quickly', 'come', 'trumpet', 'thou', 'shalt', 'great', 'mistress', 'constort', 'thee', 'triumph', 'therefore', 'often', 'stayd', 'camp', 'let', 'us', 'make', 'coming', 'shall', 'appear', 'long', 'aboand', 'head', 'hear', 'look', 'consont', 'make', 'steel', 'seem', 'ctedious', 'angel', 'compiction', 'cut', 'prate', 'sometimes', 'loves', 'barbarous', 'good', 'villain', 'humours', 'makes', 'foul', 'head', 'seem', 'arms', 'liberty', 'take', 'thou', 'sight', 'care', 'told', 'make', 'age', 'would', 'embrace', 'citys', 'shadow', 'separator', 'thou', 'hast', 'came', 'heaged', 'fiend', 'good', 'time', 'looks', 'sfellows', 'show', 'timewrit', 'thy', 'body', 'fought', 'fall', 'men', 'nothing', 'determination', 'ax', 'fish', 'gloucester', 'cold', 'bald', 'revenges', 'wind', 'olland', 'lustre', 'annoy', 'luens', 'sure', 'third', 'sons', 'king', 'philip', 'lord', 'doctor', 'caius', 'alack', 'stand', 'heavens', 'desired', 'mountain', 'blasting', 'phrase', 'wonder', 'makes', 'lobes', 'stabbd', 'thy', 'cousin', 'plainly', 'black', 'effect', 'richest', 'friend', 'gathered', 'gift', 'given', 'upon', 'airs', 'mornal', 'man', 'life', 'restrain', 'fall', 'meet', 'begottingo', 'servant', 'finish', 'look', 'quit', 'thee', 'safety', 'duke', 'ay', 'choose', 'neighbour', 'young', 'chamber', 'warning', 'sister', 'changed', 'stay', 'crest', 'light', 'breath', 'king', 'richard', 'iii', 'take', 'rest', 'let', 'bloody', 'esteemed', 'behaviors', 'wings', 'thus', 'abated', 'double', 'gaze', 'sicinius', 'answerd', 'lied', 'true', 'dedication', 'would', 'use', 'likewise', 'thus', 'thee', 'brought', 'breaking', 'name', 'tis', 'falstaff', 'say', 'thou', 'art', 'happiness', 'first', 'murderer', 'theres', 'hot', 'orlando', 'basis', 'love', 'lord', 'must', 'puck', 'cousin', 'first', 'servant', 'tell', 'truly', 'battle', 'thoughts', 'must', 'needs', 'excuse', 'well', 'polixenes', 'heard', 'welcome', 'doubtful', 'huds', 'made', 'would', 'see', 'gentleman', 'tis', 'lustre', 'makes', 'hell', 'win', 'vengeance', 'night', 'friends', 'would', 'sigh', 'curser', 'tent', 'late', 'us', 'tip', 'purpose', 'yet', 'lose', 'thou', 'wouldst', 'execute', 'thy', 'entertainment', 'even', 'lady', 'macbeth', 'thou', 'shouldst', 'gallantly', 'see', 'bid', 'alone', 'betimes', 'counsel', 'might', 'come', 'thee', 'troilus', 'always', 'find', 'thee', 'theres', 'woman', 'sportify', 'sank', 'pisa', 'wulls', 'kind', 'innocent', 'day', 'gold', 'consently', 'majesty', 'bears', 'well', 'night', 'point', 'death', 'great', 'make', 'home', 'throw', 'sternly', 'mouth', 'great', 'pisa', 'toild', 'together', 'malvolio', 'nay', 'tush', 'like', 'sonend', 'business', 'romeo', 'long', 'welkin', 'two', 'visages', 'good', 'amity', 'answer', 'dried', 'takes', 'secret', 'pageant', 'upon', 'king', 'john', 'come', 'tarsus', 'come', 'sir', 'well', 'stayd', 'must', 'ender', 'thee', 'henrys', 'coat', 'good', 'another', 'thought', 'appear', 'repent', 'kingdom', 'copily', 'bed', 'dolabella', 'urging', 'arder', 'accuse', 'thy', 'youth', 'could', 'find', 'trash', 'answered', 'yet', 'thou', 'gods', 'servant', 'come', 'lady', 'welcome', 'antony', 'coriolanus', 'let', 'wear', 'brother', 'leonato', 'wither', 'run', 'peter', 'shall', 'say', 'villain', 'blest', 'show', 'command', 'oaths', 'three', 'forfirm', 'theme', 'launce', 'soft', 'cleopatra', 'yould', 'draw', 'middle', 'youths', 'falsehood', 'one', 'another', 'fair', 'curs', 'iter', 'wild', 'white', 'man', 'cybbeline', 'letter', 'duke', 'suffolk', 'forswear', 'give', 'courtier', 'sooner', 'knoplesoldiers', 'talbot', 'unto', 'antipholus', 'stays', 'confess', 'legs', 'step', 'womans', 'brother', 'sin', 'mistress', 'ford', 'pity', 'yes', 'speak', 'gentle', 'lord', 'bear', 'thy', 'couple', 'husbands', 'children', 'call', 'gods', 'us', 'men', 'follow', 'unrocking', 'bondmack', 'business', 'would', 'see', 'filth', 'heaven', 'say', 'title', 'art', 'thou', 'army', 'arrived', 'man', 'shall', 'peer', 'speaks', 'shepherd', 'marry', 'killd', 'master', 'wherefore', 'might', 'lead', 'sweet', 'lady', 'second', 'senator', 'ay', 'must', 'die', 'due', 'beauty', 'toosuffolk', 'thou', 'needst', 'consent', 'rosalind', 'ever', 'sockcriff', 'doubtless', 'every', 'ungrace', 'dish', 'pear', 'shes', 'mischief', 'word', 'time', 'shall', 'hearts', 'bedrighteer', 'ay', 'hes', 'past', 'doubtfully', 'well', 'inventance', 'fellow', 'heavenly', 'helf', 'threatened', 'first', 'witch', 'falstaff', 'true', 'friend', 'days', 'let', 'us', 'royal', 'fool', 'albany', 'monder', 'got', 'norfolk', 'song', 'doth', 'ashame', 'lie', 'ambassadors', 'till', 'desires', 'helling', 'new', 'stubborn', 'tox', 'bear', 'thy', 'fathers', 'friendly', 'hour', 'see', 'may', 'follow', 'hastings', 'tell', 'us', 'bloody', 'eyes', 'frame', 'known', 'base', 'day', 'desires', 'may', 'impetited', 'unsame', 'lost', 'praise', 'much', 'fall', 'yet', 'alone', 'set', 'washd', 'tears', 'general', 'strumpets', 'yet', 'every', 'tongue', 'helena', 'ill', 'thee', 'letter', 'gied', 'talbot', 'second', 'lord', 'would', 'run', 'cease', 'thine', 'ventidius', 'lord', 'unliving', 'cassius', 'husband', 'say', 'mark', 'antony', 'additions', 'chase', 'lift', 'ajax', 'misled', 'suffice', 'equinius', 'affection', 'ill', 'sport', 'rage', 'escalus', 'alas', 'world', 'ever', 'newhouses', 'unto', 'wilder', 'heart', 'thersites', 'murder', 'trinculo', 'king', 'sign', 'pray', 'thee', 'cleopatra', 'foreign', 'therefore', 'volumnia', 'clifford', 'woman', 'infusions', 'gadshill', 'make', 'melancholy', 'viola', 'thanks', 'guard', 'cardinal', 'wolsey', 'hope', 'must', 'speak', 'tide', 'cassius', 'lord', 'talbot', 'ever', 'dead', 'goodness', 'tell', 'whole', 'kindred', 'still', 'back', 'substance', 'parolles', 'heavy', 'power', 'call', 'think', 'good', 'fortune', 'good', 'courtesy', 'treasons', 'place', 'begin', 'shrung', 'hath', 'bed', 'burnt', 'one', 'excepted', 'vile', 'unground', 'brutus', 'knave', 'lets', 'lose', 'power', 'saint', 'albans', 'injury', 'make', 'thee', 'thence', 'aspected', 'quickly', 'wear', 'near', 'falstaff', 'duke', 'york', 'tribunes', 'well', 'desired', 'dear', 'brother', 'hath', 'left', 'yet', 'rain', 'kingdom', 'half', 'bid', 'hear', 'else', 'several', 'deed', 'well', 'tooked', 'mark', 'write', 'shallow', 'gentle', 'men', 'person', 'second', 'citizen', 'theres', 'belly', 'amorous', 'men', 'anne', 'page', 'ill', 'lie', 'ane', 'fair', 'stop', 'hath', 'possessd', 'make', 'cause', 'vouch', 'holofernes', 'scantation', 'cracked', 'foul', 'nobles', 'doth', 'drum', 'love', 'stuffd', 'slakes', 'cleap', 'early', 'doth', 'evil', 'goodly', 'ducats', 'duke', 'vincentio', 'something', 'becomes', 'strength', 'add', 'swords', 'sounds', 'publius', 'three', 'years', 'example', 'followd', 'spirit', 'thy', 'tongue', 'banished', 'courage', 'even', 'go', 'hand', 'without', 'shall', 'pass', 'upon', 'kill', 'edmund', 'cobweb', 'dishonour', 'observation', 'space', 'well', 'befriends', 'lie', 'greatness', 'first', 'shall', 'see', 'back', 'ground', 'lies', 'inly', 'warwick', 'saw', 'margaret', 'done', 'give', 'thee', 'hence', 'thy', 'book', 'expureacold', 'days', 'honour', 'queen', 'mark', 'one', 'practise', 'thats', 'solemnized', 'green', 'english', 'warriors', 'gone', 'much', 'born', 'education', 'tis', 'world', 'talk', 'dearerstall', 'fairnaked', 'falsehood', 'goes', 'besides', 'make', 'nicholas', 'name', 'say', 'cymbeline', 'forsake', 'old', 'gaunt', 'earth', 'ever', 'seem', 'royal', 'necessary', 'deliver', 'ancestors', 'regions', 'skill', 'brutus', 'deep', 'case', 'boy', 'hasty', 'lie', 'joy', 'draw', 'cressida', 'thy', 'daughter', 'says', 'git', 'without', 'good', 'thoughts', 'ill', 'speak', 'make', 'die', 'say', 'part', 'villain', 'pluck', 'drink', 'gives', 'bewitchd', 'sooner', 'good', 'pictue', 'receive', 'fair', 'desire', 'prays', 'virtuous', 'days', 'partner', 'cleopatra', 'prince', 'many', 'boy', 'cressida', 'prince', 'queen', 'troth', 'would', 'young', 'john', 'falstaff', 'tell', 'offend', 'follow', 'thy', 'chamber', 'first', 'hurder', 'praised', 'good', 'lord', 'april', 'ha', 'must', 'come', 'bethemlo', 'ill', 'stand', 'penny', 'husband', 'trust', 'well', 'bless', 'form', 'say', 'safe', 'othello', 'wears', 'bardolph', 'conveyd', 'glass', 'bloody', 'treasure', 'court', 'see', 'faults', 'boar', 'giddy', 'way', 'heart', 'tabour', 'enemy', 'friends', 'flowers', 'justly', 'comfort', 'might', 'thou', 'start', 'enough', 'trumpets', 'lawful', 'heart', 'yet', 'done', 'discourse', 'sleeping', 'crowd', 'mortifies', 'opposed', 'prince', 'bretagne', 'could', 'sing', 'eye', 'birth', 'face', 'conspired', 'known', 'life', 'eyes', 'arm', 'purchase', 'led', 'opend', 'ulconceived', 'sleep', 'fine', 'rather', 'breath', 'let', 'let', 'see', 'speak', 'satisfaction', 'beatrice', 'thou', 'redress', 'pray', 'liege', 'performd', 'father', 'silence', 'stand', 'also', 'ingenious', 'capons', 'bringing', 'base', 'torture', 'villain', 'may', 'us', 'sooner', 'found', 'man', 'like', 'well', 'day', 'sweetly', 'eyes', 'would', 'wise', 'mouth', 'giddy', 'one', 'earth', 'blue', 'epithantic', 'men', 'time', 'born', 'blunting', 'queen', 'could', 'sink', 'part', 'part', 'chairs', 'first', 'murderer', 'may', 'late', 'thee', 'pixture', 'gold', 'therefore', 'enamounce', 'heads', 'proposed', 'wherein', 'walk', 'sir', 'costard', 'syracuse', 'tis', 'opposite', 'swear', 'even', 'wars', 'eats', 'goodly', 'chamber', 'pisanio', 'taste', 'hero', 'shall', 'prove', 'coxcomb', 'achilles', 'would', 'give', 'thee', 'mischief', 'villain', 'countess', 'volscian', 'lancaster', 'live', 'bring', 'solemn', 'service', 'fight', 'garment', 'ill', 'prescript', 'suit', 'countrys', 'orth', 'antony', 'see', 'air', 'fumbled', 'beseeming', 'meek', 'weave', 'behind', 'twenty', 'rooms', 'set', 'terror', 'sacraments', 'fair', 'thing', 'borne', 'struck', 'numbers', 'taste', 'full', 'venom', 'theres', 'decrees', 'laughest', 'little', 'english', 'antony', 'hark', 'wherefore', 'quick', 'king', 'john', 'tomorrow', 'good', 'chamber', 'parted', 'bertram', 'pregnant', 'fellow', 'troilus', 'hath', 'good', 'obscured', 'kisses', 'angelo', 'wilt', 'thou', 'hold', 'heart', 'brutus', 'steal', 'em', 'moment', 'pots', 'put', 'poor', 'watch', 'marriage', 'born', 'day', 'action', 'fly', 'chamber', 'bawd', 'lord', 'guiltless', 'courage', 'ages', 'sacred', 'face', 'theres', 'dear', 'sirs', 'poisond', 'acide', 'loss', 'think', 'write', 'tomorrow', 'caesar', 'teach', 'sport', 'twixt', 'brother', 'lie', 'examine', 'hath', 'sat', 'grapple', 'brain', 'march', 'saturnine', 'brought', 'thats', 'much', 'better', 'good', 'thy', 'advantage', 'say', 'thy', 'father', 'breaking', 'prince', 'thou', 'wilt', 'buy', 'thee', 'volume', 'flittery', 'villains', 'amplement', 'bocks', 'brutus', 'lord', 'would', 'make', 'come', 'antonius', 'whilst', 'entreat', 'thee', 'man', 'juliet', 'moments', 'proud', 'day', 'doth', 'rich', 'wounds', 'domething', 'hunting', 'act', 'shall', 'found', 'overpreseld', 'performance', 'reckon', 'overreason', 'first', 'year', 'hid', 'way', 'beximpt', 'would', 'dream', 'farther', 'purposes', 'let', 'distractions', 'life', 'sir', 'john', 'armardos', 'true', 'applement', 'fresh', 'besome', 'accountance', 'barren', 'ill', 'see', 'ask', 'know', 'sea', 'troilus', 'would', 'give', 'us', 'earth', 'every', 'nephew', 'romans', 'peep', 'home', 'ask', 'glove', 'ravish', 'spirits', 'rudesty', 'cressida', 'till', 'return', 'practise', 'grace', 'single', 'shore', 'ambitious', 'air', 'knows', 'one', 'speakd', 'lord', 'bawd', 'holy', 'boy', 'heard', 'bloody', 'natures', 'shourd', 'renown', 'greater', 'tent', 'break', 'lets', 'make', 'sort', 'walls', 'senseless', 'kings', 'annointd', 'mad', 'ammition', 'comes', 'break', 'malicious', 'love', 'distance', 'laertes', 'tot', 'appears', 'cease', 'fluellen', 'ill', 'hear', 'departures', 'subjects', 'thou', 'callst', 'upon', 'thoughts', 'pity', 'music', 'oak', 'palfage', 'fall', 'love', 'rude', 'lord', 'bardolph', 'fie', 'wife', 'int', 'cap', 'taste', 'hundred', 'fatenot', 'kingdom', 'precedent', 'come', 'lords', 'sometime', 'poor', 'messala', 'avoided', 'wretchedness', 'upon', 'wrath', 'dares', 'break', 'maid', 'may', 'forswear', 'content', 'men', 'mingle', 'wheres', 'glory', 'queen', 'margaret', 'nay', 'theres', 'scorn', 'see', 'stale', 'thy', 'minute', 'stroke', 'wars', 'lost', 'another', 'thing', 'speed', 'well', 'wonders', 'go', 'lather', 'liberty', 'rememberd', 'rivel', 'wooing', 'love', 'turns', 'freely', 'dotas', 'foots', 'death', 'whose', 'fault', 'handkerchief', 'desert', 'scornd', 'thy', 'highness', 'knows', 'hold', 'subjects', 'port', 'like', 'gilties', 'praised', 'proper', 'dismercise', 'days', 'vexd', 'little', 'humours', 'craveth', 'doth', 'portion', 'lord', 'pray', 'know', 'still', 'fair', 'children', 'dreadfully', 'something', 'hung', 'conveyd', 'look', 'lo', 'shace', 'valiant', 'cur', 'let', 'past', 'leonine', 'pray', 'hand', 'officer', 'like', 'frailty', 'costly', 'doth', 'thoughts', 'danger', 'banish', 'hands', 'day', 'single', 'wife', 'subdues', 'blessed', 'name', 'thy', 'good', 'morrow', 'alexander', 'leonato', 'good', 'master', 'shallow', 'brave', 'lord', 'maids', 'act', 'first', 'gentleman', 'like', 'power', 'sir', 'pleasure', 'heap', 'claudio', 'think', 'fortune', 'evenged', 'king', 'henry', 'v', 'saw', 'em', 'wagery', 'three', 'undoing', 'jews', 'general', 'king', 'henry', 'v', 'queen', 'gold', 'taller', 'alas', 'sir', 'good', 'lord', 'york', 'heavens', 'old', 'ade', 'prithee', 'may', 'gladly', 'countly', 'vouchsafe', 'upon', 'death', 'poisons', 'met', 'hardly', 'property', 'wish', 'hands', 'burn', 'fire', 'worm', 'queen', 'feed', 'words', 'forty', 'thats', 'consulblesd', 'whose', 'death', 'death', 'cromwell', 'kill', 'honour', 'robbering', 'battle', 'married', 'beard', 'took', 'icade', 'dat', 'desires', 'ceremony', 'awhile', 'intermy', 'party', 'ill', 'selfbreath', 'base', 'spring', 'stretched', 'good', 'shall', 'extreme', 'antonio', 'well', 'look', 'shame', 'bears', 'fathers', 'cause', 'sir', 'prince', 'anne', 'pericles', 'son', 'great', 'men', 'stoppd', 'fever', 'dispatch', 'heat', 'ophelia', 'entrances', 'us', 'beseeming', 'peasy', 'terror', 'king', 'claudius', 'caesars', 'spastial', 'haste', 'remember', 'made', 'judgment', 'cholers', 'troth', 'within', 'meed', 'look', 'cressids', 'fortune', 'coriolanus', 'hostess', 'beat', 'trumpet', 'first', 'rosalind', 'ground', 'whereof', 'ended', 'must', 'die', 'vouchsafe', 'shower', 'othello', 'heres', 'man', 'certain', 'write', 'since', 'disgrace', 'firmlyrots', 'makes', 'grow', 'bawdy', 'doubt', 'means', 'die', 'brets', 'iago', 'conquests', 'thy', 'face', 'wits', 'good', 'helicanus', 'see', 'oerwake', 'us', 'thy', 'bed', 'lives', 'less', 'lay', 'presently', 'ill', 'return', 'else', 'loss', 'dares', 'degree', 'nothing', 'speak', 'well', 'stephano', 'vexation', 'could', 'lord', 'stand', 'green', 'craft', 'let', 'us', 'discredit', 'hither', 'world', 'bound', 'sweet', 'action', 'way', 'beguiled', 'certainry', 'fasting', 'us', 'lady', 'macbeth', 'dost', 'thou', 'page', 'take', 'mine', 'intapercavale', 'duty', 'thine', 'eye', 'soldiers', 'thrown', 'two', 'hands', 'thee', 'gloucester', 'banquo', 'well', 'good', 'lord', 'hold', 'strike', 'brutus', 'smile', 'straight', 'take', 'heed', 'learned', 'tilt', 'things', 'alone', 'ye', 'else', 'whilst', 'born', 'crosses', 'bedick', 'friends', 'already', 'might', 'lift', 'post', 'instrument', 'julius', 'heart', 'poor', 'sons', 'lamented', 'least', 'votary', 'score', 'awe', 'breathes', 'cymbeline', 'oftens', 'bad', 'junos', 'death', 'england', 'flavius', 'farewell', 'say', 'painless', 'morsel', 'ample', 'thine', 'eyes', 'trial', 'lady', 'warrant', 'mercy', 'things', 'earthlygrudging', 'action', 'keep', 'painting', 'recovery', 'trencher', 'provided', 'abuses', 'something', 'since', 'land', 'possessd', 'outlaw', 'two', 'whiles', 'chreeks', 'burning', 'herds', 'inched', 'neither', 'laws', 'must', 'hew', 'guardman', 'lovell', 'seek', 'love', 'shall', 'come', 'seet', 'belong', 'let', 'consul', 'neer', 'son', 'life', 'till', 'thou', 'struck', 'agent', 'marcius', 'turn', 'hell', 'see', 'queen', 'king', 'henry', 'v', 'sir', 'breast', 'towards', 'add', 'dost', 'thou', 'begin', 'tell', 'dead', 'wealth', 'affection', 'therefore', 'answer', 'lord', 'trinculo', 'thats', 'unmonsterd', 'see', 'thee', 'lord', 'slender', 'took', 'consumption', 'brittiness', 'lullaby', 'wolcester', 'circumstance', 'would', 'true', 'caret', 'shall', 'died', 'even', 'thou', 'earl', 'douglas', 'face', 'poor', 'remembrance', 'ingratitudes', 'entreated', 'prison', 'stand', 'master', 'gentle', 'opinion', 'well', 'ariel', 'marry', 'lord', 'done', 'would', 'grace', 'may', 'entreat', 'life', 'whip', 'tonight', 'know', 'stephano', 'think', 'delivered', 'would', 'follow', 'guard', 'good', 'king', 'lords', 'best', 'full', 'barren', 'patience', 'poor', 'departs', 'grove', 'racks', 'men', 'fair', 'words', 'lived', 'youth', 'bring', 'noble', 'wrathful', 'mritages', 'let', 'ingled', 'ins', 'gates', 'calls', 'despite', 'lord', 'polonius', 'ill', 'speak', 'lord', 'blood', 'believe', 'eye', 'kent', 'take', 'tyranny', 'fields', 'brutus', 'whereover', 'else', 'dangerously', 'well', 'hamlet', 'makes', 'head', 'second', 'murderer', 'body', 'marry', 'mad', 'tender', 'ruther', 'deserts', 'died', 'steel', 'day', 'hope', 'god', 'pro', 'cause', 'kept', 'contrary', 'army', 'outward', 'price', 'might', 'prepare', 'today', 'bertram', 'let', 'go', 'basket', 'shall', 'mine', 'indignity', 'asdeemd', 'wrought', 'substance', 'dreamd', 'thee', 'provost', 'would', 'say', 'aros', 'view', 'foul', 'deeds', 'base', 'kill', 'thou', 'ever', 'nephew', 'presently', 'seem', 'work', 'promised', 'revenge', 'stand', 'correction', 'lustre', 'bruissed', 'aunt', 'servant', 'ear', 'dieted', 'mighty', 'soldiers', 'men', 'go', 'fling', 'uncle', 'ambidius', 'wirld', 'concealed', 'leads', 'minds', 'passions', 'therefore', 'go', 'maria', 'look', 'lie', 'john', 'fair', 'eye', 'different', 'right', 'hand', 'dies', 'fuver', 'thy', 'hat', 'suarp', 'cousin', 'claudio', 'titus', 'poison', 'charm', 'whose', 'bupty', 'peers', 'meaning', 'anointed', 'two', 'wisdoms', 'day', 'must', 'stay', 'hot', 'prince', 'confident', 'stood', 'speech', 'teach', 'stains', 'slumber', 'shall', 'follow', 'pleaseth', 'little', 'outward', 'go', 'nothing', 'lord', 'aunt', 'would', 'bame', 'alexander', 'lives', 'ill', 'give', 'mine', 'bondle', 'three', 'grey', 'fair', 'sent', 'robe', 'gonzalo', 'seald', 'tis', 'thoughts', 'bravely', 'general', 'keeps', 'promises', 'hires', 'greater', 'twill', 'enter', 'subjects', 'turn', 'antony', 'look', 'fall', 'feed', 'without', 'greater', 'sweet', 'hollow', 'implandage', 'friendly', 'remedy', 'romeo', 'ay', 'speak', 'speed', 'hangd', 'lord', 'people', 'splitted', 'caesar', 'thou', 'wroughtst', 'learning', 'praised', 'spent', 'pray', 'awaked', 'song', 'rich', 'speechant', 'villain', 'madam', 'thomas', 'laurence', 'let', 'see', 'lord', 'sir', 'inus', 'hark', 'third', 'murderer', 'theres', 'nominable', 'view', 'take', 'heed', 'mother', 'poins', 'well', 'lord', 'thine', 'enemies', 'lost', 'another', 'ulysses', 'thou', 'toldst', 'kneel', 'mountain', 'us', 'cost', 'hang', 'thy', 'person', 'deputy', 'upon', 'eyes', 'would', 'dot', 'well', 'enough', 'decius', 'brutus', 'ho', 'sitmise', 'till', 'noble', 'faith', 'whose', 'motion', 'lackd', 'beauty', 'day', 'enemy', 'falln', 'life', 'expressments', 'least', 'spent', 'rest', 'entertain', 'ere', 'snall', 'kind', 'lie', 'doth', 'almost', 'let', 'king', 'could', 'see', 'new', 'lady', 'straight', 'content', 'forsworn', 'wheres', 'every', 'man', 'ready', 'hath', 'nothing', 'alone', 'flung', 'voace', 'still', 'good', 'dog', 'tender', 'love', 'crying', 'upon', 'thinking', 'pestilent', 'boys', 'beat', 'graces', 'infurnish', 'forbear', 'manners', 'peace', 'heavenly', 'heiring', 'shall', 'meet', 'bond', 'shall', 'saved', 'rather', 'think', 'stods', 'ever', 'say', 'thread', 'straight', 'take', 'thine', 'eyes', 'imperial', 'hair', 'keep', 'upon', 'husband', 'mark', 'antony', 'heavens', 'prove', 'soul', 'first', 'citizen', 'heaven', 'lord', 'kent', 'hence', 'yorks', 'bastard', 'couchd', 'shall', 'lose', 'household', 'partests', 'fear', 'importune', 'language', 'within', 'shame', 'stackd', 'thy', 'fathers', 'daughter', 'suffer', 'swears', 'either', 'cabrous', 'cold', 'ages', 'wanton', 'present', 'funtle', 'beauty', 'unmannd', 'knifes', 'death', 'lord', 'grazms', 'ill', 'struck', 'tongue', 'prayer', 'mark', 'antony', 'make', 'swear', 'veins', 'prove', 'loll', 'night', 'kneels', 'opinion', 'wealth', 'wherefore', 'agree', 'ground', 'age', 'performd', 'dearly', 'bosom', 'soul', 'yet', 'set', 'cressid', 'sitting', 'come', 'comes', 'fellow', 'make', 'oerphysicks', 'till', 'honour', 'air', 'timon', 'merry', 'thoughts', 'break', 'world', 'good', 'loss', 'lightpouched', 'shall', 'ruin', 'favour', 'courtesies', 'cast', 'heed', 'still', 'execute', 'grace', 'stray', 'toms', 'hairkills', 'never', 'like', 'till', 'one', 'troilus', 'bodies', 'gentlenesso', 'heavens', 'apparel', 'desire', 'come', 'thou', 'speakst', 'fouthful', 'touch', 'thee', 'peers', 'horsessweet', 'harmless', 'action', 'wrongs', 'yet', 'spent', 'gone', 'state', 'valiant', 'brother', 'france', 'set', 'thy', 'story', 'near', 'fearful', 'strumpet', 'stones', 'lusty', 'faced', 'convrities', 'tis', 'potent', 'thy', 'child', 'beauty', 'pawn', 'bloody', 'court', 'shall', 'come', 'restrain', 'saying', 'sorrow', 'thus', 'much', 'gallant', 'ground', 'shall', 'murder', 'ill', 'atch', 'nephew', 'fair', 'contempt', 'branches', 'thy', 'respect', 'said', 'came', 'butt', 'weeder', 'one', 'mantle', 'lady', 'macbeth', 'thou', 'camest', 'course', 'hand', 'hath', 'far', 'hath', 'taen', 'quickly', 'clown', 'thy', 'husbands', 'say', 'go', 'weep', 'thyself', 'king', 'philip', 'fourth', 'raven', 'perfect', 'joys', 'abide', 'angelo', 'hath', 'story', 'thou', 'art', 'bent', 'fort', 'cassius', 'come', 'lets', 'queen', 'thou', 'hast', 'eat', 'process', 'halfkind', 'take', 'till', 'rather', 'satisfied', 'face', 'everish', 'time', 'protection', 'whence', 'taze', 'give', 'salt', 'et', 'names', 'bow', 'would', 'beautify', 'purchase', 'motion', 'flame', 'cressida', 'ah', 'brotherous', 'spirit', 'cnrimon', 'fall', 'loyaltys', 'houses', 'gold', 'tiom', 'brought', 'head', 'therefore', 'behind', 'thy', 'grace', 'entertain', 'rite', 'greatly', 'peers', 'course', 'hemn', 'twelvemonth', 'trust', 'way', 'consent', 'stars', 'offer', 'gentleman', 'hold', 'word', 'souls', 'absent', 'chide', 'upon', 'love', 'fad', 'guiding', 'peaces', 'orland', 'scant', 'degrees', 'men', 'wash', 'thy', 'harmborne', 'never', 'turnd', 'shall', 'add', 'address', 'knows', 'dead', 'well', 'entertaind', 'every', 'eye', 'make', 'close', 'brow', 'ever', 'stand', 'blood', 'truly', 'come', 'lord', 'york', 'offend', 'breedingry', 'house', 'unfriend', 'heart', 'art', 'devise', 'deliver', 'shall', 'daughter', 'absence', 'thy', 'allowance', 'laugh', 'second', 'citizen', 'heres', 'savantry', 'petruchio', 'nay', 'sit', 'peace', 'weep', 'deraim', 'simplicity', 'take', 'shall', 'noticily', 'would', 'rather', 'queen', 'margaret', 'came', 'well', 'awhile', 'bassanio', 'knows', 'prophet', 'restrained', 'youll', 'see', 'sleep', 'therefore', 'take', 'folly', 'liar', 'cleopatra', 'hath', 'eat', 'backward', 'may', 'might', 'exceeding', 'sister', 'peace', 'general', 'day', 'wrongs', 'example', 'hero', 'beseech', 'grace', 'shallow', 'sir', 'awhile', 'descript', 'thy', 'name', 'prayer', 'called', 'civil', 'assist', 'serve', 'legion', 'france', 'love', 'conspect', 'bloody', 'whet', 'heard', 'measure', 'travelld', 'pair', 'thoughts', 'mark', 'antony', 'ay', 'tis', 'wise', 'bill', 'persons', 'praise', 'earnest', 'little', 'right', 'resorts', 'head', 'pay', 'eyes', 'bitterly', 'go', 'home', 'see', 'assure', 'found', 'may', 'chafe', 'gesty', 'turn', 'perilius', 'born', 'glorious', 'brow', 'jessica', 'glad', 'honour', 'whiles', 'follow', 'father', 'tarrus', 'vengeance', 'rank', 'would', 'fear', 'twere', 'damnd', 'mind', 'fever', 'pericles', 'thou', 'likest', 'high', 'hands', 'minute', 'speak', 'plight', 'names', 'lays', 'bevis', 'kings', 'lives', 'cleopatra', 'dear', 'valentine', 'left', 'hell', 'adventure', 'ground', 'king', 'fond', 'command', 'well', 'live', 'fury', 'requests', 'going', 'exception', 'needs', 'poor', 'tongue', 'wheat', 'naples', 'mark', 'antony', 'oword', 'gently', 'lord', 'heard', 'ford', 'seem', 'shall', 'follow', 'hell', 'smiles', 'wounds', 'yet', 'hath', 'heart', 'peep', 'kings', 'conscience', 'dearly', 'tyrannys', 'fathers', 'open', 'treachery', 'inkind', 'trueh', 'fly', 'edgar', 'hark', 'suffer', 'chain', 'iago', 'steal', 'fair', 'weep', 'emilia', 'eyes', 'shes', 'nickly', 'affrighted', 'well', 'see', 'modest', 'monarch', 'thy', 'husband', 'anne', 'page', 'ay', 'sirrah', 'one', 'stock', 'fents', 'offence', 'jessica', 'thou', 'better', 'ill', 'sport', 'angelo', 'theres', 'pleasure', 'sir', 'decised', 'help', 'weaker', 'time', 'would', 'know', 'lords', 'moved', 'man', 'executes', 'seat', 'might', 'sir', 'duke', 'norfolk', 'would', 'place', 'much', 'told', 'sword', 'warwick', 'princess', 'master', 'doth', 'decuse', 'cassius', 'would', 'thou', 'wilt', 'hear', 'twill', 'practise', 'shame', 'shes', 'good', 'boy', 'tell', 'traverl', 'hear', 'first', 'day', 'friends', 'beggd', 'kinnlambs', 'mrustance', 'show', 'joyful', 'sovereign', 'characters', 'lief', 'last', 'traitors', 'shortest', 'showering', 'die', 'knew', 'deep', 'bait', 'lodge', 'hold', 'power', 'love', 'way', 'suffer', 'sad', 'girland', 'could', 'old', 'thou', 'hast', 'told', 'tellest', 'achilles', 'brawls', 'may', 'ever', 'may', 'wight', 'away', 'must', 'seem', 'likes', 'shown', 'hand', 'seed', 'could', 'tell', 'observe', 'joys', 'simples', 'uncalld', 'stayd', 'letters', 'ways', 'like', 'kings', 'first', 'told', 'england', 'thou', 'art', 'ere', 'proud', 'injury', 'scorn', 'begins', 'alone', 'done', 'great', 'shut', 'children', 'heavens', 'flows', 'familiars', 'thy', 'daughter', 'little', 'writely', 'found', 'hands', 'one', 'accise', 'doth', 'bid', 'talk', 'praise', 'fortune', 'suve', 'legs', 'music', 'every', 'little', 'news', 'make', 'thee', 'blush', 'pun', 'haste', 'loss', 'calld', 'thou', 'short', 'summer', 'grief', 'whose', 'truly', 'bait', 'thou', 'dost', 'better', 'moonshine', 'stayd', 'noble', 'dry', 'since', 'know', 'like', 'great', 'tower', 'though', 'affections', 'leaved', 'browly', 'wind', 'way', 'julius', 'clock', 'shall', 'throws', 'speak', 'within', 'power', 'hundred', 'life', 'know', 'tender', 'study', 'take', 'west', 'bountys', 'teeth', 'well', 'say', 'us', 'sport', 'full', 'eyes', 'lendle', 'coldbelly', 'ribs', 'women', 'thy', 'feet', 'clamour', 'much', 'lord', 'cheering', 'none', 'second', 'senator', 'mates', 'fall', 'therefore', 'fair', 'thoughts', 'prithee', 'go', 'band', 'nun', 'valentine', 'ay', 'quarrel', 'countess', 'auvergne', 'well', 'give', 'passion', 'vantage', 'thickest', 'yet', 'ensue', 'every', 'days', 'octavius', 'caesar', 'emilia', 'losta', 'young', 'friend', 'salarino', 'edgar', 'swear', 'marcius', 'york', 'fellow', 'slain', 'fair', 'guest', 'death', 'die', 'oft', 'speak', 'make', 'parliament', 'demetrius', 'falls', 'young', 'devils', 'took', 'happy', 'voice', 'door', 'provided', 'upon', 'uses', 'power', 'break', 'make', 'thee', 'gone', 'duke', 'vincentio', 'receive', 'pardon', 'hail', 'dot', 'benedick', 'hath', 'hour', 'valanter', 'shake', 'robs', 'hopes', 'remost', 'fit', 'realm', 'fliest', 'srancester', 'thy', 'hand', 'merily', 'commandment', 'hath', 'taen', 'another', 'butchers', 'sovereign', 'lord', 'none', 'skare', 'need', 'without', 'utter', 'prodigious', 'trinculo', 'lord', 'ill', 'take', 'mercy', 'thy', 'cunnings', 'diunders', 'world', 'could', 'beauty', 'nurse', 'wound', 'old', 'caesar', 'till', 'poor', 'first', 'lord', 'lord', 'thou', 'thy', 'reason', 'breaks', 'good', 'margaret', 'beatrice', 'fie', 'hes', 'many', 'hours', 'beggd', 'duke', 'vincentio', 'shall', 'lord', 'may', 'knave', 'indeed', 'touched', 'youth', 'woe', 'guard', 'despised', 'thus', 'impart', 'grump', 'towards', 'cause', 'blame', 'eye', 'would', 'reason', 'reynaldo', 'ay', 'tramful', 'lodging', 'doublet', 'wonder', 'bid', 'thee', 'sir', 'hugh', 'evans', 'youll', 'prove', 'hell', 'weave', 'cares', 'upon', 'fairest', 'power', 'would', 'repose', 'poison', 'tell', 'oer', 'riches', 'breast', 'oonzalo', 'come', 'come', 'hither', 'father', 'jealous', 'sons', 'knows', 'us', 'hack', 'hath', 'got', 'feasted', 'gentlemen', 'would', 'come', 'messenger', 'ay', 'sooner', 'saw', 'gone', 'tell', 'weary', 'men', 'came', 'corn', 'king', 'lear', 'pride', 'old', 'power', 'upon', 'slave', 'call', 'sadness', 'like', 'heart', 'seat', 'wondred', 'father', 'gloucester', 'contracted', 'payment', 'lord', 'good', 'patched', 'father', 'shall', 'envy', 'offer', 'little', 'loud', 'imagination', 'find', 'gict', 'fights', 'mountain', 'hear', 'great', 'detection', 'thy', 'quarrel', 'seen', 'elder', 'suit', 'paragon', 'first', 'servingman', 'fire', 'sir', 'doubled', 'puck', 'time', 'fair', 'must', 'excused', 'lover', 'blood', 'committed', 'harm', 'loud', 'dismal', 'son', 'sons', 'story', 'think', 'would', 'lose', 'crack', 'like', 'villains', 'estate', 'fury', 'could', 'live', 'valiant', 'man', 'hes', 'salisbury', 'remember', 'ear', 'thou', 'art', 'goths', 'petruchio', 'part', 'act', 'menenius', 'go', 'must', 'right', 'peace', 'hum', 'true', 'never', 'said', 'hath', 'still', 'welcome', 'grow', 'nothing', 'theres', 'none', 'place', 'bequeathd', 'think', 'work', 'fathers', 'tales', 'hamlet', 'rome', 'love', 'penitent', 'fierce', 'office', 'one', 'another', 'twelve', 'would', 'turn', 'guide', 'fear', 'flatter', 'speedshrewd', 'days', 'ned', 'first', 'lord', 'say', 'makes', 'pardon', 'father', 'given', 'much', 'great', 'performance', 'pieces', 'brought', 'worthier', 'large', 'tis', 'hypouses', 'attention', 'king', 'lear', 'lets', 'fight', 'theyre', 'eloquent', 'life', 'name', 'done', 'lord', 'must', 'theres', 'queen', 'martial', 'brows', 'walk', 'upon', 'officer', 'one', 'lions', 'faults', 'beguiled', 'take', 'wars', 'plays', 'day', 'good', 'absence', 'thou', 'lovest', 'lap', 'gloucester', 'pistol', 'would', 'make', 'long', 'siana', 'thanks', 'man', 'madam', 'go', 'keep', 'nearer', 'brow', 'fault', 'shake', 'royal', 'changeable', 'nation', 'anger', 'wretchd', 'aloud', 'counsellors', 'promises', 'soft', 'doctors', 'ay', 'terman', 'fancy', 'angelo', 'smiles', 'faith', 'came', 'jointful', 'case', 'bring', 'thee', 'ere', 'aims', 'strain', 'sits', 'field', 'heaven', 'flier', 'black', 'frosty', 'plumes', 'even', 'vain', 'place', 'noses', 'calls', 'foolish', 'crown', 'prepared', 'seems', 'renewing', 'steel', 'sweetlike', 'used', 'upon', 'four', 'thing', 'short', 'flower', 'honesty', 'gallant', 'luggage', 'thaisa', 'disfair', 'simple', 'throne', 'possessd', 'foe', 'singles', 'advised', 'eye', 'sorrow', 'grieved', 'tarriaging', 'instruction', 'juliets', 'man', 'god', 'give', 'life', 'angelo', 'say', 'even', 'forth', 'well', 'true', 'duppd', 'arms', 'flesh', 'strange', 'time', 'profane', 'fly', 'die', 'chronic', 'practise', 'thy', 'enemy', 'glorious', 'church', 'company', 'inlaw', 'back', 'shall', 'met', 'lifted', 'dower', 'villain', 'wound', 'effect', 'foined', 'thus', 'rather', 'know', 'cry', 'charge', 'behold', 'fortunes', 'soul', 'doth', 'thee', 'hath', 'store', 'language', 'honours', 'gallant', 'cold', 'sit', 'defends', 'cause', 'fortunes', 'bassianus', 'right', 'enough', 'first', 'forsooth', 'trumpet', 'places', 'thou', 'barbarous', 'theres', 'sworn', 'without', 'power', 'stafford', 'brought', 'though', 'made', 'expression', 'great', 'gold', 'cleopatra', 'tis', 'brutus', 'made', 'good', 'thomas', 'albany', 'alas', 'sir', 'house', 'tamora', 'sirrah', 'peace', 'curse', 'bloody', 'house', 'see', 'sight', 'know', 'us', 'well', 'countess', 'malvolio', 'tis', 'jove', 'sir', 'offered', 'fe', 'valiant', 'sway', 'lordship', 'says', 'credit', 'shall', 'moved', 'take', 'action', 'wonder', 'well', 'profess', 'confess', 'quench', 'duke', 'veins', 'befeen', 'stony', 'holes', 'kings', 'cleopatra', 'rosaline', 'king', 'dishonour', 'call', 'fault', 'gives', 'ere', 'true', 'maids', 'defile', 'every', 'temperance', 'dust', 'desired', 'duke', 'vincentio', 'ha', 'stinf', 'sword', 'fast', 'great', 'bed', 'ferdinand', 'would', 'peddure', 'fell', 'defend', 'show', 'heads', 'hath', 'brought', 'much', 'table', 'several', 'stakes', 'made', 'given', 'judgment', 'death', 'forbid', 'though', 'make', 'honours', 'vast', 'brother', 'john', 'humphreys', 'head', 'much', 'noble', 'titania', 'broke', 'th', 'smallest', 'gate', 'sgrieve', 'villain', 'take', 'us', 'yet', 'thy', 'vile', 'thrice', 'heaven', 'lord', 'lie', 'us', 'rascal', 'cassius', 'without', 'maiden', 'rhings', 'mad', 'smwell', 'rome', 'heralds', 'bended', 'oft', 'thou', 'hast', 'affords', 'star', 'gone', 'lets', 'sit', 'ill', 'send', 'dish', 'flint', 'make', 'give', 'house', 'distinct', 'looks', 'arms', 'give', 'induct', 'paris', 'done', 'made', 'sir', 'gentle', 'music', 'speak', 'upon', 'thee', 'cassius', 'murderer', 'iago', 'ill', 'cry', 'gone', 'cleopatra', 'think', 'like', 'pursue', 'shall', 'swear', 'turn', 'three', 'love', 'fawnings', 'sly', 'grant', 'people', 'lady', 'macbeth', 'dost', 'thou', 'lose', 'one', 'would', 'duke', 'orleans', 'mark', 'antony', 'iron', 'hammers', 'brothers', 'would', 'needs', 'every', 'respect', 'love', 'justice', 'commendable', 'tide', 'ferend', 'armys', 'stocks', 'born', 'tell', 'dowry', 'could', 'lost', 'penalty', 'good', 'mine', 'affection', 'lies', 'look', 'characters', 'next', 'gelding', 'hence', 'wicked', 'bear', 'last', 'caught', 'isabella', 'stayd', 'pistol', 'youll', 'full', 'expired', 'time', 'falstaff', 'challenge', 'good', 'creature', 'break', 'together', 'friends', 'excellent', 'siege', 'come', 'head', 'world', 'bekon', 'shall', 'done', 'deadly', 'court', 'two', 'creatures', 'earl', 'douglas', 'shall', 'break', 'sun', 'bactista', 'ay', 'sweet', 'frenchman', 'could', 'way', 'let', 'us', 'alone', 'since', 'would', 'feel', 'catesby', 'thou', 'hast', 'full', 'fellow', 'one', 'staind', 'way', 'pageant', 'buckingham', 'half', 'would', 'thy', 'arms', 'landed', 'love', 'seen', 'many', 'hearts', 'observe', 'take', 'heaven', 'another', 'body', 'shoy', 'preserved', 'daughter', 'cousin', 'spare', 'finger', 'grieve', 'horse', 'let', 'ambition', 'go', 'met', 'dinner', 'speak', 'bed', 'anne', 'young', 'party', 'thousand', 'grace', 'alexas', 'tis', 'true', 'way', 'displaced', 'sir', 'dauglas', 'better', 'dependent', 'lord', 'faith', 'iware', 'sale', 'wildiam', 'contain', 'lucius', 'whats', 'together', 'five', 'seet', 'angry', 'claudio', 'art', 'thou', 'taste', 'valiant', 'arms', 'host', 'art', 'thou', 'put', 'commend', 'duchess', 'york', 'thought', 'look', 'sake', 'would', 'inquire', 'consequence', 'warrant', 'borne', 'manages', 'dear', 'horses', 'ere', 'must', 'done', 'troilus', 'kissing', 'must', 'predections', 'scing', 'holds', 'arms', 'london', 'queen', 'many', 'solemn', 'weakness', 'finger', 'charmian', 'wait', 'like', 'greatness', 'seem', 'mercutio', 'finds', 'army', 'blunt', 'pindarus', 'though', 'twenty', 'mouths', 'shall', 'live', 'pleasing', 'kingdom', 'charmian', 'stay', 'master', 'second', 'lord', 'sirrah', 'lord', 'bassanios', 'head', 'sweet', 'creature', 'sir', 'hugh', 'evans', 'ist', 'twas', 'true', 'stop', 'worlds', 'entirely', 'brutus', 'like', 'correct', 'song', 'heaven', 'younger', 'bald', 'king', 'claudius', 'forbear', 'king', 'richard', 'iii', 'hope', 'tell', 'use', 'love', 'timon', 'thy', 'help', 'many', 'ages', 'request', 'friends', 'meel', 'till', 'bares', 'fellows', 'keepers', 'betray', 'antony', 'bottom', 'matter', 'charmian', 'even', 'cirrolus', 'theyre', 'prized', 'cloak', 'pricketh', 'dissenture', 'shadows', 'force', 'could', 'safe', 'first', 'huntingman', 'mardy', 'thy', 'voices', 'since', 'shall', 'help', 'mercy', 'cassius', 'something', 'stoln', 'tis', 'seen', 'heavens', 'work', 'cease', 'waking', 'backs', 'bleed', 'hand', 'shoulders', 'enough', 'ill', 'prove', 'gentlemen', 'tarried', 'father', 'never', 'woundeth', 'trifled', 'fair', 'court', 'profession', 'eilded', 'part', 'believe', 'tailor', 'elderkin', 'sets', 'valianted', 'honour', 'train', 'narrow', 'terror', 'flesh', 'dews', 'cassius', 'lady', 'edgar', 'wheres', 'valiant', 'estiff', 'intended', 'catch', 'brutus', 'henry', 'bolingbroke', 'thou', 'art', 'deceived', 'lord', 'beaten', 'gold', 'half', 'womans', 'love', 'earth', 'gods', 'silken', 'tell', 'cry', 'vernon', 'thou', 'must', 'copperd', 'sovereign', 'hath', 'followd', 'war', 'make', 'dish', 'forsooth', 'harmony', 'feast', 'mark', 'antony', 'shall', 'hear', 'prove', 'object', 'goodness', 'warrant', 'sometimes', 'like', 'time', 'second', 'lord', 'think', 'highness', 'let', 'leave', 'thee', 'taodless', 'snaverd', 'hoes', 'carved', 'us', 'spoke', 'fair', 'transgormance', 'hour', 'known', 'therefore', 'love', 'day', 'follows', 'us', 'twas', 'conceited', 'wildry', 'tent', 'look', 'fail', 'upon', 'straight', 'heels', 'wax', 'distribute', 'thee', 'ravish', 'wounds', 'sulms', 'give', 'light', 'contempture', 'easest', 'well', 'trust', 'tread', 'upon', 'thee', 'heart', 'shall', 'venture', 'heat', 'vile', 'lockd', 'brother', 'helens', 'sister', 'friends', 'look', 'performd', 'thy', 'crowns', 'streams', 'thouldst', 'grudge', 'forth', 'come', 'king', 'claudius', 'offence', 'poet', 'forbear', 'thy', 'suit', 'faint', 'fit', 'traitors', 'without', 'world', 'octavius', 'caesar', 'thou', 'thinkst', 'plant', 'cupboser', 'prepare', 'king', 'henry', 'v', 'die', 'right', 'cross', 'lucius', 'yet', 'dearest', 'son', 'hold', 'legs', 'fire', 'ill', 'tell', 'duty', 'thy', 'hate', 'counsel', 'would', 'fallend', 'singles', 'prove', 'staind', 'report', 'might', 'fetch', 'fruitful', 'little', 'head', 'thee', 'believe', 'none', 'sulrence', 'imogen', 'came', 'armd', 'brother', 'king', 'silence', 'come', 'thou', 'darest', 'like', 'graceful', 'springs', 'see', 'think', 'would', 'wanton', 'though', 'left', 'say', 'could', 'deliverance', 'something', 'forehead', 'two', 'razers', 'live', 'world', 'duke', 'free', 'spare', 'hollow', 'borrow', 'late', 'say', 'wretchedness', 'know', 'eeard', 'petruchio', 'alas', 'ratcliff', 'go', 'part', 'hot', 'hated', 'king', 'leave', 'thee', 'yet', 'make', 'witchcrafts', 'perchance', 'find', 'two', 'surgeons', 'would', 'see', 'us', 'thus', 'houdly', 'trade', 'passion', 'nursed', 'loss', 'thou', 'knowest', 'presumely', 'ake', 'every', 'place', 'beggar', 'goble', 'one', 'another', 'power', 'bait', 'forehead', 'ill', 'sleep', 'canst', 'speak', 'souls', 'gabes', 'thyself', 'endure', 'hamper', 'conflunction', 'hath', 'speak', 'father', 'sweet', 'master', 'song', 'keep', 'mine', 'displeasure', 'thus', 'yet', 'order', 'got', 'heads', 'presented', 'thee', 'men', 'shall', 'fall', 'shall', 'halt', 'base', 'margaret', 'coriolanus', 'come', 'come', 'else', 'nought', 'pompey', 'done', 'first', 'servingman', 'even', 'well', 'five', 'least', 'well', 'struck', 'mine', 'arming', 'marriage', 'live', 'ill', 'come', 'second', 'lord', 'gloucester', 'howsoeer', 'long', 'farewell', 'rather', 'mark', 'per', 'doth', 'command', 'rather', 'shall', 'slow', 'face', 'seize', 'undirected', 'brutus', 'thyself', 'thus', 'ground', 'way', 'thou', 'didst', 'rapture', 'praise', 'whose', 'feeding', 'lack', 'ports', 'oerpeach', 'gloucester', 'patience', 'drinks', 'godly', 'blue', 'bed', 'averch', 'thousand', 'fellows', 'heart', 'falsely', 'pay', 'awhile', 'city', 'cressida', 'thus', 'sequellous', 'duty', 'bill', 'antipholus', 'syracuse', 'six', 'suffolk', 'pray', 'give', 'pirate', 'horatio', 'know', 'thee', 'troilus', 'thought', 'pray', 'nut', 'heaven', 'true', 'health', 'tarry', 'elessing', 'spirit', 'grave', 'tomorrow', 'sorrow', 'cheeks', 'patiently', 'philosophy', 'hath', 'threaten', 'heart', 'story', 'stands', 'half', 'drunk', 'gremio', 'twice', 'epithee', 'toms', 'methought', 'amongst', 'love', 'pass', 'lord', 'good', 'heart', 'go', 'thee', 'third', 'citizen', 'mine', 'prevail', 'ajax', 'fairly', 'run', 'asugnable', 'page', 'every', 'one', 'profaned', 'bosom', 'pay', 'encounter', 'sorrow', 'silvius', 'times', 'thing', 'keep', 'thus', 'second', 'servingman', 'shall', 'time', 'pray', 'go', 'thou', 'hast', 'lady', 'take', 'wife', 'appears', 'sea', 'yet', 'thine', 'honours', 'eyes', 'queen', 'margaret', 'expose', 'tot', 'powers', 'senerate', 'thus', 'seem', 'keep', 'aloft', 'whose', 'ards', 'done', 'lord', 'gloucester', 'would', 'say', 'either', 'would', 'done', 'terror', 'watery', 'shows', 'graciously', 'power', 'villain', 'roderigo', 'andronicus', 'know', 'place', 'time', 'queen', 'margaret', 'fares', 'day', 'woman', 'shall', 'give', 'pains', 'friends', 'hielding', 'tetles', 'twixt', 'year', 'yet', 'thy', 'soul', 'strong', 'good', 'sight', 'titles', 'save', 'dignity', 'withers', 'grief', 'thought', 'ones', 'love', 'gainst', 'upon', 'majesty', 'poor', 'ill', 'come', 'antonio', 'ha', 'ha', 'executioners', 'bowl', 'upon', 'ring', 'man', 'would', 'go', 'sicinius', 'salarino', 'move', 'haps', 'would', 'lurk', 'bell', 'nobles', 'three', 'omnon', 'hath', 'ended', 'huge', 'envy', 'ventidius', 'octavius', 'caesar', 'great', 'doctor', 'sir', 'try', 'qualified', 'shall', 'refuse', 'english', 'salisbury', 'find', 'ways', 'since', 'good', 'bear', 'shepherd', 'lord', 'grace', 'shall', 'make', 'royal', 'ears', 'witness', 'knees', 'heav', 'indeed', 'say', 'good', 'fortune', 'top', 'piece', 'fellows', 'go', 'revel', 'play', 'without', 'witchcraft', 'gains', 'ever', 'question', 'soldiers', 'jade', 'mothers', 'beggd', 'elvina', 'mouth', 'men', 'walk', 'sea', 'hearted', 'highness', 'courtfrails', 'would', 'instruct', 'look', 'peace', 'took', 'iago', 'world', 'charmian', 'turns', 'master', 'much', 'marriage', 'fancy', 'lie', 'sightthe', 'trifle', 'grace', 'revenge', 'sworn', 'war', 'paris', 'measure', 'destroy', 'well', 'encounters', 'industry', 'cuckold', 'captain', 'revolt', 'title', 'sall', 'tortury', 'gone', 'would', 'sure', 'neer', 'much', 'friend', 'deliver', 'fool', 'tamora', 'heart', 'hath', 'still', 'countenanced', 'yet', 'longed', 'true', 'suffolk', 'give', 'us', 'excellent', 'success', 'fifth', 'heres', 'one', 'doth', 'go', 'good', 'lords', 'acquainted', 'breathure', 'deer', 'shepherd', 'nay', 'bastard', 'sir', 'articles', 'well', 'love', 'pain', 'women', 'overfoold', 'since', 'horse', 'chafe', 'fear', 'hand', 'buckingham', 'affairs', 'great', 'cowardy', 'terms', 'several', 'banquet', 'dream', 'wager', 'though', 'outraged', 'bring', 'hands', 'falstaff', 'husband', 'wonder', 'fathers', 'sake', 'said', 'stand', 'upon', 'back', 'begins', 'proved', 'several', 'treasons', 'climb', 'untelling', 'suffolk', 'free', 'pain', 'hath', 'induced', 'prithee', 'good', 'cleopatra', 'froze', 'thee', 'pardon', 'husband', 'cities', 'blush', 'grieves', 'us', 'first', 'amazed', 'drops', 'every', 'mouth', 'diseases', 'astempt', 'wondrous', 'fine', 'head', 'thine', 'cheeks', 'fearful', 'lady', 'nouse', 'nod', 'much', 'prince', 'angelo', 'left', 'henceforth', 'city', 'utter', 'true', 'sound', 'love', 'hath', 'tawny', 'sebastian', 'advices', 'say', 'master', 'shallow', 'biron', 'lord', 'second', 'outlaw', 'sir', 'see', 'wants', 'common', 'sword', 'wife', 'paulina', 'incense', 'tell', 'ophelia', 'yea', 'sir', 'sixs', 'guisture', 'thorn', 'loud', 'isemony', 'disobdering', 'nine', 'sickly', 'stiff', 'agamemnon', 'first', 'come', 'well', 'mistook', 'longer', 'second', 'denilo', 'romeo', 'peace', 'whos', 'falstaff', 'mistress', 'think', 'indeed', 'sir', 'thomas', 'malvolio', 'every', 'sea', 'could', 'kiss', 'thou', 'mayst', 'timon', 'thou', 'hast', 'revolted', 'old', 'daughter', 'hath', 'snown', 'conduct', 'messenger', 'must', 'confess', 'lord', 'shall', 'avoid', 'wear', 'one', 'expose', 'lets', 'away', 'sir', 'toby', 'belch', 'kingdom', 'mighty', 'fellow', 'said', 'tis', 'half', 'rutland', 'smiles', 'shrewsbury', 'rosalind', 'never', 'heared', 'gracious', 'lady', 'needs', 'infant', 'correction', 'thou', 'shalt', 'come', 'second', 'lord', 'marry', 'well', 'came', 'katharina', 'duching', 'thy', 'succeeding', 'hotspur', 'thou', 'art', 'full', 'thine', 'aeneas', 'fat', 'court', 'poetry', 'thou', 'shouldst', 'come', 'shall', 'consequence', 'able', 'strong', 'gentle', 'flesh', 'gainst', 'hath', 'used', 'brutus', 'go', 'go', 'back', 'army', 'king', 'philip', 'think', 'hears', 'almost', 'meet', 'first', 'lady', 'call', 'gallant', 'flower', 'say', 'men', 'put', 'stand', 'though', 'become', 'ill', 'prologue', 'temple', 'seek', 'basely', 'like', 'fleety', 'child', 'required', 'thee', 'set', 'winds', 'hence', 'air', 'born', 'daughters', 'enemies', 'therefore', 'purged', 'us', 'thy', 'past', 'pandarus', 'saint', 'sabbare', 'day', 'takes', 'good', 'old', 'duke', 'york', 'ill', 'wape', 'thee', 'honour', 'wrought', 'child', 'damnd', 'painted', 'spirit', 'nation', 'death', 'compare', 'choice', 'indeed', 'foolish', 'leg', 'sooth', 'make', 'absolutes', 'famous', 'lunacy', 'destruction', 'bloody', 'present', 'brinding', 'cotmusion', 'well', 'done', 'tranio', 'gentlemen', 'beggar', 'wouldst', 'thou', 'comprevent', 'suit', 'permy', 'make', 'gallant', 'fence', 'command', 'treacherous', 'edges', 'thy', 'point', 'stone', 'wines', 'oswald', 'woes', 'true', 'stars', 'come', 'loath', 'belarius', 'ay', 'ay', 'set', 'upon', 'mortaly', 'world', 'thy', 'answer', 'glass', 'fair', 'naughty', 'assemble', 'sons', 'sesnect', 'new', 'toad', 'would', 'wish', 'upright', 'halfherbiting', 'true', 'die', 'pack', 'mood', 'thee', 'shesons', 'call', 'blabbing', 'enterprise', 'people', 'speaking', 'true', 'seat', 'ill', 'thy', 'name', 'ever', 'young', 'adam', 'fixed', 'known', 'object', 'sight', 'infurnity', 'court', 'anmonio', 'saw', 'think', 'king', 'enough', 'current', 'citys', 'household', 'fell', 'uses', 'present', 'air', 'drop', 'purpose', 'chamber', 'love', 'please', 'though', 'heart', 'live', 'head', 'doth', 'get', 'banishd', 'health', 'melt', 'swift', 'boy', 'shall', 'spurnd', 'could', 'see', 'thee', 'pompey', 'holds', 'edges', 'happy', 'heavens', 'say', 'passion', 'sad', 'despised', 'water', 'discharge', 'int', 'weakness', 'shall', 'tell', 'save', 'gone', 'bertram', 'spake', 'box', 'sovereignty', 'madam', 'lordship', 'shall', 'proud', 'pity', 'conjured', 'inclination', 'whos', 'doctor', 'caius', 'chance', 'warwick', 'thorough', 'blood', 'gods', 'tell', 'another', 'belly', 'chaste', 'provoked', 'corage', 'shallow', 'thou', 'seenst', 'thy', 'brows', 'measure', 'grey', 'close', 'posterity', 'temples', 'doting', 'company', 'eat', 'nature', 'athenian', 'added', 'soul', 'made', 'senators', 'good', 'command', 'makes', 'thee', 'bullset', 'plays', 'thou', 'dost', 'go', 'valentine', 'called', 'chiefest', 'hath', 'deserved', 'fland', 'almost', 'effected', 'suit', 'unitanced', 'colour', 'cains', 'love', 'golden', 'grass', 'business', 'must', 'pursue', 'head', 'whose', 'mans', 'basket', 'growthed', 'body', 'slews', 'sight', 'hill', 'party', 'revenged', 'men', 'abhorrd', 'innocent', 'face', 'spirits', 'ere', 'wilt', 'strange', 'absent', 'man', 'fear', 'mine', 'hands', 'pleasure', 'means', 'doings', 'lose', 'friends', 'whose', 'state', 'husbands', 'land', 'filthy', 'men', 'time', 'made', 'shadows', 'folly', 'unweeping', 'court', 'jolt', 'bosom', 'thy', 'leave', 'noble', 'sport', 'wait', 'corrupt', 'horse', 'break', 'torns', 'unto', 'gentleman', 'princely', 'burgundy', 'pompey', 'wilt', 'thou', 'give', 'frosty', 'euphin', 'since', 'beggar', 'tame', 'speak', 'say', 'loved', 'us', 'make', 'proud', 'hour', 'blunt', 'great', 'needness', 'boy', 'half', 'abated', 'lucius', 'ah', 'soul', 'die', 'nothing', 'would', 'durst', 'hear', 'thee', 'cool', 'rather', 'see', 'gloucester', 'sir', 'gludge', 'mark', 'antony', 'thou', 'dost', 'digest', 'accident', 'doth', 'see', 'says', 'old', 'george', 'stafford', 'know', 'even', 'yonder', 'prove', 'struck', 'praise', 'could', 'received', 'black', 'scurvy', 'sight', 'duke', 'york', 'hold', 'thee', 'ha', 'serve', 'command', 'revenge', 'joy', 'rosalind', 'edward', 'say', 'boys', 'poor', 'breedingwomen', 'eight', 'prelate', 'brought', 'past', 'conduct', 'sir', 'caesar', 'hast', 'thou', 'dead', 'escalus', 'hew', 'luckless', 'second', 'soldier', 'hes', 'false', 'heavy', 'breathinggilded', 'bed', 'second', 'servingman', 'well', 'twere', 'word', 'every', 'day', 'hear', 'grace', 'false', 'vows', 'thee', 'leaden', 'cause', 'turn', 'thy', 'thoughts', 'thy', 'desdemona', 'beyond', 'ears', 'good', 'tends', 'daughter', 'fathers', 'son', 'france', 'motion', 'thy', 'advantage', 'popening', 'holy', 'youth', 'reasonable', 'unthankfulness', 'certain', 'praise', 'ill', 'speak', 'heaven', 'repose', 'rosalind', 'talk', 'wind', 'warrant', 'bird', 'go', 'well', 'speak', 'france', 'poor', 'crown', 'peace', 'villain', 'overnend', 'grief', 'husband', 'norfolk', 'stir', 'provost', 'marcus', 'andronicus', 'wife', 'killd', 'dead', 'mans', 'errlight', 'whiles', 'see', 'substance', 'true', 'beam', 'famous', 'driving', 'poor', 'groans', 'incurable', 'unspeaker', 'petty', 'mountain', 'take', 'envious', 'brabble', 'freebookboy', 'titus', 'sisters', 'virtue', 'king', 'yet', 'fair', 'expires', 'patiently', 'enforced', 'make', 'bring', 'lands', 'forth', 'twas', 'fool', 'albany', 'plague', 'selfsweet', 'queen', 'swear', 'like', 'modesty', 'three', 'man', 'would', 'speak', 'king', 'henry', 'iv', 'sir', 'never', 'till', 'wars', 'said', 'would', 'answers', 'may', 'lief', 'never', 'served', 'calld', 'side', 'therefore', 'didst', 'death', 'death', 'heaven', 'speak', 'anne', 'page', 'welcome', 'prayers', 'fight', 'villain', 'look', 'neither', 'speakful', 'billows', 'shall', 'follow', 'clown', 'ill', 'day', 'mine', 'honour', 'go', 'good', 'fellows', 'full', 'gentlemen', 'first', 'murderer', 'villain', 'would', 'lord', 'anne', 'yet', 'says', 'wife', 'dead', 'therefore', 'set', 'midst', 'eightingly', 'hes', 'foul', 'deed', 'heavy', 'house', 'beget', 'parts', 'life', 'forbid', 'tell', 'good', 'gold', 'way', 'shall', 'san', 'causes', 'shortly', 'horatio', 'hear', 'hour', 'yield', 'whither', 'whose', 'souls', 'ill', 'warrant', 'king', 'john', 'think', 'valiant', 'john', 'tybalt', 'thy', 'pleasure', 'hern', 'behind', 'hours', 'protector', 'even', 'say', 'obscure', 'lady', 'way', 'hast', 'thou', 'lost', 'day', 'defund', 'dozen', 'arms', 'shall', 'determine', 'cassio', 'see', 'yet', 'love', 'fort', 'today', 'defend', 'soul', 'idleness', 'boy', 'lethus', 'cheerly', 'bad', 'thy', 'end', 'made', 'known', 'hundred', 'fool', 'head', 'mistress', 'go', 'thy', 'stocks', 'wedge', 'stay', 'thy', 'soul', 'crownd', 'fire', 'fought', 'murders', 'little', 'foes', 'ground', 'great', 'speeds', 'party', 'pants', 'well', 'prenswords', 'either', 'duke', 'senior', 'lord', 'thy', 'men', 'custom', 'trust', 'know', 'giving', 'unroaring', 'coated', 'father', 'weak', 'several', 'pride', 'takes', 'death', 'speak', 'benefits', 'buckingham', 'guess', 'ill', 'take', 'bloody', 'back', 'brutus']\n"
          ]
        }
      ]
    },
    {
      "cell_type": "markdown",
      "source": [
        "\n",
        "Text Lemmatization"
      ],
      "metadata": {
        "id": "Sutm5DXQ7E8C"
      }
    },
    {
      "cell_type": "code",
      "source": [
        "def lemmatization(tokenized_line):\n",
        "    lemmatizer = WordNetLemmatizer()\n",
        "    lemmatized_text = [lemmatizer.lemmatize(word) for word in tokenized_line]\n",
        "    return ' '.join(lemmatized_text)\n"
      ],
      "metadata": {
        "id": "Y3HU2qJo9k8b"
      },
      "execution_count": 387,
      "outputs": []
    },
    {
      "cell_type": "code",
      "source": [
        "with open(\"Shakespeare_Normalized_Tokenized_StopWord.txt\", \"r\") as infile:\n",
        "        text = infile.read()\n",
        "        tokenized_words = nltk.word_tokenize(text)\n",
        "        lemmatizer = WordNetLemmatizer()\n",
        "        lemmatized_text = [lemmatizer.lemmatize(word) for word in tokenized_words]\n",
        "\n",
        "with open(\"Shakespeare_Normalized_Tokenized_StopWord_Lemmatized.txt\", \"w\") as outfile:\n",
        "     outfile.write('\\n'.join(lemmatized_text))"
      ],
      "metadata": {
        "id": "OGaRJGV1SE4h"
      },
      "execution_count": 388,
      "outputs": []
    },
    {
      "cell_type": "markdown",
      "source": [
        "Snowball Stemmer"
      ],
      "metadata": {
        "id": "6ekRibUdAShf"
      }
    },
    {
      "cell_type": "code",
      "source": [
        "def stemmerSnow(tokenized_line):\n",
        "    stemmer = SnowballStemmer(\"english\")\n",
        "    stemmed_text = [stemmer.stem(word) for word in tokenized_line]\n",
        "    return ' '.join(stemmed_text)"
      ],
      "metadata": {
        "id": "tMvjFLvWcm4R"
      },
      "execution_count": 389,
      "outputs": []
    },
    {
      "cell_type": "code",
      "source": [
        "with open('Shakespeare_Normalized_Tokenized_StopWord_Lemmatized.txt', 'r') as infile:\n",
        "    text = infile.read().split()"
      ],
      "metadata": {
        "id": "nN2PHYN-xwWo"
      },
      "execution_count": 390,
      "outputs": []
    },
    {
      "cell_type": "markdown",
      "source": [
        "Porter Stemmer"
      ],
      "metadata": {
        "id": "jG2Ua-OCybuj"
      }
    },
    {
      "cell_type": "code",
      "source": [
        "stemmer = PorterStemmer()\n",
        "stemmed_text = [stemmer.stem(word) for word in text]\n",
        "with open('Shakespeare_Normalized_Tokenized_StopWord_Lemmatized_Stemming01.txt', 'w') as outfile:\n",
        "  outfile.write('\\n'.join(stemmed_text))"
      ],
      "metadata": {
        "id": "6OR80BjjxxQA"
      },
      "execution_count": 391,
      "outputs": []
    },
    {
      "cell_type": "code",
      "source": [
        "stemmer = SnowballStemmer(\"english\")\n",
        "stemmed_textSnowball = [stemmer.stem(word) for word in text]\n",
        "with open('Shakespeare_Normalized_Tokenized_StopWord_Lemmatized_Stemming02.txt', 'w') as outfile:\n",
        "    outfile.write('\\n'.join(stemmed_textSnowball))"
      ],
      "metadata": {
        "id": "6hZSgWtac0Jd"
      },
      "execution_count": 392,
      "outputs": []
    },
    {
      "cell_type": "markdown",
      "source": [
        "Análise do Vocabulário"
      ],
      "metadata": {
        "id": "F8eeddMRB2M2"
      }
    },
    {
      "cell_type": "code",
      "source": [
        "def read_tokens(file_path):\n",
        "    with open(file_path, 'r') as f:\n",
        "        return [line.strip() for line in f.readlines()]"
      ],
      "metadata": {
        "id": "3GAkteejqTCC"
      },
      "execution_count": 393,
      "outputs": []
    },
    {
      "cell_type": "code",
      "source": [
        "def write_csv(file_name, counter):\n",
        "    with open(file_name, 'w', newline='') as f:\n",
        "        writer = csv.writer(f)\n",
        "        writer.writerow([\"Token\", \"ocorrencia\", \"tamanho\"])\n",
        "        for word, freq in counter.items():\n",
        "            writer.writerow([word, freq, len(word)])"
      ],
      "metadata": {
        "id": "108Sf7FUqxB9"
      },
      "execution_count": 394,
      "outputs": []
    },
    {
      "cell_type": "code",
      "source": [
        "def calculate_average_word_length(counter):\n",
        "    total_length = 0\n",
        "    total_words = 0\n",
        "\n",
        "    for word, frequency in counter.items():\n",
        "        total_length += len(word) * frequency\n",
        "        total_words += frequency\n",
        "\n",
        "    if total_words == 0:\n",
        "        return 0\n",
        "\n",
        "    return total_length / total_words"
      ],
      "metadata": {
        "id": "AN4CpM3zqTd5"
      },
      "execution_count": 395,
      "outputs": []
    },
    {
      "cell_type": "code",
      "source": [
        "file_list = [\n",
        "    'Shakespeare_Normalized_Tokenized_StopWord_Lemmatized.txt',\n",
        "    'Shakespeare_Normalized_Tokenized_StopWord_Lemmatized_Stemming01.txt',\n",
        "    'Shakespeare_Normalized_Tokenized_StopWord_Lemmatized_Stemming02.txt'\n",
        "]"
      ],
      "metadata": {
        "id": "wUd0igUVqUpy"
      },
      "execution_count": 396,
      "outputs": []
    },
    {
      "cell_type": "code",
      "source": [
        "from collections import Counter\n",
        "\n",
        "average_lengths = []\n",
        "file_sizes = []\n",
        "average_frequencies = []\n",
        "\n",
        "for file_path in file_list:\n",
        "    tokens = read_tokens(file_path)\n",
        "    file_size = len(tokens)\n",
        "    token_counter = Counter(tokens)\n",
        "    average_length = calculate_average_word_length(token_counter)\n",
        "\n",
        "    average_frequency = file_size / len(token_counter) if len(token_counter) > 0 else 0\n",
        "\n",
        "    average_lengths.append(average_length)\n",
        "    file_sizes.append(file_size)\n",
        "    average_frequencies.append(average_frequency)"
      ],
      "metadata": {
        "colab": {
          "base_uri": "https://localhost:8080/"
        },
        "id": "2lAshaJbrUXz",
        "outputId": "b32c6040-b6ea-4d1e-854d-21c0852a3a28"
      },
      "execution_count": 397,
      "outputs": [
        {
          "output_type": "stream",
          "name": "stdout",
          "text": [
            "Average lengths: [5.281916570347799, 4.946201534096879, 4.956709046968583]\n",
            "File sizes: [9517, 9517, 9517]\n",
            "Average frequencies: [3.0670319046084433, 3.348698099929627, 3.3820184790334045]\n"
          ]
        }
      ]
    },
    {
      "cell_type": "code",
      "source": [
        "with open(\"Shakespeare_Vocabulary_Analysis.txt\", 'w') as f:\n",
        "  f.write(f\"lemmmatizador\\n\")\n",
        "  f.write(f\"Quantidade de tokens: {file_sizes[0]}\\nOcorrencia media de tokens: {average_frequencies[0]}\\nTamanho medio dos tokens: {average_lengths[0]} \\n\")\n",
        "  f.write(f\"Porter\\n\")\n",
        "  f.write(f\"Quantidade de tokens: {file_sizes[1]}\\nOcorrencia media de tokens: {average_frequencies[1]}\\nTamanho medio dos tokens: {average_lengths[1]} \\n\")\n",
        "  f.write(f\"Snowball\\n\")\n",
        "  f.write(f\"Quantidade de tokens: {file_sizes[2]}\\nOcorrencia media de tokens: {average_frequencies[2]}\\nTamanho medio dos tokens: {average_lengths[2]} \\n\")"
      ],
      "metadata": {
        "id": "AIPD5-k1sPXb"
      },
      "execution_count": 398,
      "outputs": []
    }
  ]
}