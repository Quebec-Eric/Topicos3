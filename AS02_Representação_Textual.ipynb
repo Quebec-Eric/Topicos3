{
  "nbformat": 4,
  "nbformat_minor": 0,
  "metadata": {
    "colab": {
      "provenance": []
    },
    "kernelspec": {
      "name": "python3",
      "display_name": "Python 3"
    },
    "language_info": {
      "name": "python"
    }
  },
  "cells": [
    {
      "cell_type": "markdown",
      "source": [
        "#Eric Azevedo de Oliveira\n",
        "\n",
        "#AS02: Representação Textual\n"
      ],
      "metadata": {
        "id": "-V6cJ-8Hjo7y"
      }
    },
    {
      "cell_type": "code",
      "execution_count": null,
      "metadata": {
        "colab": {
          "base_uri": "https://localhost:8080/"
        },
        "id": "oINODuAJjn-a",
        "outputId": "cbb3760c-82af-4fba-e339-f51ed3badfac"
      },
      "outputs": [
        {
          "output_type": "execute_result",
          "data": {
            "text/plain": [
              "['alt.atheism',\n",
              " 'comp.graphics',\n",
              " 'comp.os.ms-windows.misc',\n",
              " 'comp.sys.ibm.pc.hardware',\n",
              " 'comp.sys.mac.hardware',\n",
              " 'comp.windows.x',\n",
              " 'misc.forsale',\n",
              " 'rec.autos',\n",
              " 'rec.motorcycles',\n",
              " 'rec.sport.baseball',\n",
              " 'rec.sport.hockey',\n",
              " 'sci.crypt',\n",
              " 'sci.electronics',\n",
              " 'sci.med',\n",
              " 'sci.space',\n",
              " 'soc.religion.christian',\n",
              " 'talk.politics.guns',\n",
              " 'talk.politics.mideast',\n",
              " 'talk.politics.misc',\n",
              " 'talk.religion.misc']"
            ]
          },
          "metadata": {},
          "execution_count": 52
        }
      ],
      "source": [
        "from sklearn.datasets import fetch_20newsgroups\n",
        "from sklearn.feature_extraction.text import CountVectorizer, TfidfVectorizer , TfidfTransformer\n",
        "from sklearn.feature_extraction import text\n",
        "from pprint import pprint\n",
        "import numpy as np\n",
        "import re\n",
        "import sklearn\n",
        "import pandas as pd\n",
        "import nltk\n",
        "from gensim.models import Word2Vec\n",
        "import spacy\n",
        "from collections import defaultdict\n",
        "newsgroups_train = fetch_20newsgroups(subset='train')\n",
        "C = list(newsgroups_train.target_names)\n",
        "C"
      ]
    },
    {
      "cell_type": "code",
      "source": [
        "T =['The who is the band!',\n",
        "    'who is the band?',\n",
        "    'The band who plays the who.']"
      ],
      "metadata": {
        "id": "GJQxL2jg5x4u"
      },
      "execution_count": null,
      "outputs": []
    },
    {
      "cell_type": "code",
      "source": [
        "def get_tokens(text):\n",
        "    tokens = re.sub(\"[^\\w]\", \" \", text).split()\n",
        "    cleaned_text = [w.lower() for w in tokens]\n",
        "    return cleaned_text\n",
        "\n",
        "\n",
        "def tokenize(texts):\n",
        "    words = []\n",
        "    for text in texts:\n",
        "        w = get_tokens(text)\n",
        "        words.extend(w)\n",
        "    words = sorted(list(set(words)))\n",
        "    return words\n",
        "\n",
        "\n",
        "V = tokenize(C)\n"
      ],
      "metadata": {
        "id": "ilII6BKMuCbg"
      },
      "execution_count": null,
      "outputs": []
    },
    {
      "cell_type": "markdown",
      "source": [
        "#One-Hot Encoding"
      ],
      "metadata": {
        "id": "x_e9iZlq-0RX"
      }
    },
    {
      "cell_type": "code",
      "source": [
        "with open(\"20News_01.txt\", \"w\") as f:\n",
        "  for i, text in enumerate(C):\n",
        "    words = get_tokens(text)\n",
        "    bag_vector = np.zeros(len(V))\n",
        "    for w in words:\n",
        "        for j, word in enumerate(V):\n",
        "            if word == w:\n",
        "                bag_vector[j] = 1\n",
        "    f.write(\"{0} = {1}\\n\".format(text, bag_vector))"
      ],
      "metadata": {
        "id": "wo_j-DXU4-Ak"
      },
      "execution_count": null,
      "outputs": []
    },
    {
      "cell_type": "markdown",
      "source": [
        "#Count Vectors"
      ],
      "metadata": {
        "id": "qK7KbEnnG2QP"
      }
    },
    {
      "cell_type": "code",
      "source": [
        "def preprocessCorpus(corpus):\n",
        "    new_corpus = [doc.lower() for doc in corpus]\n",
        "    regex = r\"(?<!\\d)[\\!\\?.,;:-](?!\\d)\"\n",
        "    new_corpus = [re.sub(regex, \"\", doc, 0) for doc in new_corpus]\n",
        "    return new_corpus\n"
      ],
      "metadata": {
        "id": "WsDyVvVuDXtM"
      },
      "execution_count": null,
      "outputs": []
    },
    {
      "cell_type": "code",
      "source": [
        "corpus = preprocessCorpus(C)\n",
        "print(corpus)"
      ],
      "metadata": {
        "colab": {
          "base_uri": "https://localhost:8080/"
        },
        "id": "gedTaSOTEKOQ",
        "outputId": "0245bbc3-9c82-4a04-e20d-f09722d25f06"
      },
      "execution_count": null,
      "outputs": [
        {
          "output_type": "stream",
          "name": "stdout",
          "text": [
            "['altatheism', 'compgraphics', 'composmswindowsmisc', 'compsysibmpchardware', 'compsysmachardware', 'compwindowsx', 'miscforsale', 'recautos', 'recmotorcycles', 'recsportbaseball', 'recsporthockey', 'scicrypt', 'scielectronics', 'scimed', 'scispace', 'socreligionchristian', 'talkpoliticsguns', 'talkpoliticsmideast', 'talkpoliticsmisc', 'talkreligionmisc']\n"
          ]
        }
      ]
    },
    {
      "cell_type": "code",
      "source": [
        "vectorizer = CountVectorizer()\n",
        "doc_term_matrix = vectorizer.fit_transform(corpus)\n",
        "terms = vectorizer.get_feature_names_out()\n",
        "df = pd.DataFrame(doc_term_matrix.toarray(), columns=terms)\n",
        "with open(\"20News_02.txt\", \"w\") as f:\n",
        "    print(df.to_string(), file=f)"
      ],
      "metadata": {
        "id": "4ZedI91hEeG7"
      },
      "execution_count": null,
      "outputs": []
    },
    {
      "cell_type": "markdown",
      "source": [
        "#TF-IDF"
      ],
      "metadata": {
        "id": "PGTpKRTnIt7q"
      }
    },
    {
      "cell_type": "code",
      "source": [
        "transformer = TfidfTransformer()\n",
        "tfidf_matrix = transformer.fit_transform(doc_term_matrix)\n",
        "df = pd.DataFrame(tfidf_matrix.A, columns=terms)\n",
        "with open(\"20News_03.txt\", \"w\") as f:\n",
        "    print(df.to_string(), file=f)"
      ],
      "metadata": {
        "id": "D547wklI4q4H"
      },
      "execution_count": null,
      "outputs": []
    },
    {
      "cell_type": "markdown",
      "source": [
        "#n-grams (2-grams)"
      ],
      "metadata": {
        "id": "DolZMnrOIyjH"
      }
    },
    {
      "cell_type": "code",
      "source": [
        "vectorizer= CountVectorizer(ngram_range=(2,2))\n",
        "doc_term_matrix = vectorizer.fit_transform(corpus)\n",
        "vocabulary=vectorizer.get_feature_names_out()\n",
        "df = pd.DataFrame(doc_term_matrix.A, columns=vocabulary)\n",
        "with open(\"20News_04.txt\", 'w') as f:\n",
        "    f.write(df.to_string())"
      ],
      "metadata": {
        "id": "vi9W8R_I_WAk"
      },
      "execution_count": null,
      "outputs": []
    },
    {
      "cell_type": "markdown",
      "source": [
        "#Co-occurrence Vectors (Context Window = 1)"
      ],
      "metadata": {
        "id": "-5OcmHkNI2hH"
      }
    },
    {
      "cell_type": "code",
      "source": [
        "co_occurrence_matrix = (doc_term_matrix * doc_term_matrix.T)\n",
        "print(co_occurrence_matrix.todense())"
      ],
      "metadata": {
        "colab": {
          "base_uri": "https://localhost:8080/"
        },
        "id": "IwcCdtyY6lkN",
        "outputId": "dc9f8701-92b7-4728-ea88-3a1d659510dd"
      },
      "execution_count": null,
      "outputs": [
        {
          "output_type": "stream",
          "name": "stdout",
          "text": [
            "[[4 3 2]\n",
            " [3 3 1]\n",
            " [2 1 5]]\n"
          ]
        }
      ]
    },
    {
      "cell_type": "code",
      "source": [
        "g = sp.diags(1. / co_occurrence_matrix.diagonal())\n",
        "co_occurrence_matrix_norm = g * co_occurrence_matrix"
      ],
      "metadata": {
        "id": "2J4kmdJM67H3"
      },
      "execution_count": null,
      "outputs": []
    },
    {
      "cell_type": "code",
      "source": [
        "def co_ocurrence(sentences, window_size):\n",
        "    d = defaultdict(int)\n",
        "    vocab = set()\n",
        "\n",
        "    for text in sentences:\n",
        "        text = text.lower().split()\n",
        "        for i, token in enumerate(text):\n",
        "            vocab.add(token)\n",
        "            next_tokens = text[i+1:i+window_size+1]\n",
        "\n",
        "            for t in next_tokens:\n",
        "                key = tuple(sorted([t, token]))\n",
        "                d[key] += 1\n",
        "\n",
        "    vocab = sorted(vocab)\n",
        "    df = pd.DataFrame(data=np.zeros((len(vocab), len(vocab)), dtype=np.int16),\n",
        "                      index=vocab,\n",
        "                      columns=vocab)\n",
        "\n",
        "    for key, value in d.items():\n",
        "        df.at[key[0], key[1]] = value\n",
        "        df.at[key[1], key[0]] = value\n",
        "\n",
        "    return df"
      ],
      "metadata": {
        "id": "xSsGAF7m7aZ5"
      },
      "execution_count": null,
      "outputs": []
    },
    {
      "cell_type": "code",
      "source": [
        "df=co_ocurrence(corpus,2)\n",
        "df.head()"
      ],
      "metadata": {
        "colab": {
          "base_uri": "https://localhost:8080/",
          "height": 226
        },
        "id": "YvgJ0Gqr875F",
        "outputId": "bc3cc8ed-641a-4e11-a22a-399f80f11ed3"
      },
      "execution_count": null,
      "outputs": [
        {
          "output_type": "execute_result",
          "data": {
            "text/plain": [
              "                      altatheism  compgraphics  composmswindowsmisc  \\\n",
              "altatheism                     0             0                    0   \n",
              "compgraphics                   0             0                    0   \n",
              "composmswindowsmisc            0             0                    0   \n",
              "compsysibmpchardware           0             0                    0   \n",
              "compsysmachardware             0             0                    0   \n",
              "\n",
              "                      compsysibmpchardware  compsysmachardware  compwindowsx  \\\n",
              "altatheism                               0                   0             0   \n",
              "compgraphics                             0                   0             0   \n",
              "composmswindowsmisc                      0                   0             0   \n",
              "compsysibmpchardware                     0                   0             0   \n",
              "compsysmachardware                       0                   0             0   \n",
              "\n",
              "                      miscforsale  recautos  recmotorcycles  recsportbaseball  \\\n",
              "altatheism                      0         0               0                 0   \n",
              "compgraphics                    0         0               0                 0   \n",
              "composmswindowsmisc             0         0               0                 0   \n",
              "compsysibmpchardware            0         0               0                 0   \n",
              "compsysmachardware              0         0               0                 0   \n",
              "\n",
              "                      recsporthockey  scicrypt  scielectronics  scimed  \\\n",
              "altatheism                         0         0               0       0   \n",
              "compgraphics                       0         0               0       0   \n",
              "composmswindowsmisc                0         0               0       0   \n",
              "compsysibmpchardware               0         0               0       0   \n",
              "compsysmachardware                 0         0               0       0   \n",
              "\n",
              "                      scispace  socreligionchristian  talkpoliticsguns  \\\n",
              "altatheism                   0                     0                 0   \n",
              "compgraphics                 0                     0                 0   \n",
              "composmswindowsmisc          0                     0                 0   \n",
              "compsysibmpchardware         0                     0                 0   \n",
              "compsysmachardware           0                     0                 0   \n",
              "\n",
              "                      talkpoliticsmideast  talkpoliticsmisc  talkreligionmisc  \n",
              "altatheism                              0                 0                 0  \n",
              "compgraphics                            0                 0                 0  \n",
              "composmswindowsmisc                     0                 0                 0  \n",
              "compsysibmpchardware                    0                 0                 0  \n",
              "compsysmachardware                      0                 0                 0  "
            ],
            "text/html": [
              "\n",
              "  <div id=\"df-9f617929-75d2-497c-96e5-567395dbed51\" class=\"colab-df-container\">\n",
              "    <div>\n",
              "<style scoped>\n",
              "    .dataframe tbody tr th:only-of-type {\n",
              "        vertical-align: middle;\n",
              "    }\n",
              "\n",
              "    .dataframe tbody tr th {\n",
              "        vertical-align: top;\n",
              "    }\n",
              "\n",
              "    .dataframe thead th {\n",
              "        text-align: right;\n",
              "    }\n",
              "</style>\n",
              "<table border=\"1\" class=\"dataframe\">\n",
              "  <thead>\n",
              "    <tr style=\"text-align: right;\">\n",
              "      <th></th>\n",
              "      <th>altatheism</th>\n",
              "      <th>compgraphics</th>\n",
              "      <th>composmswindowsmisc</th>\n",
              "      <th>compsysibmpchardware</th>\n",
              "      <th>compsysmachardware</th>\n",
              "      <th>compwindowsx</th>\n",
              "      <th>miscforsale</th>\n",
              "      <th>recautos</th>\n",
              "      <th>recmotorcycles</th>\n",
              "      <th>recsportbaseball</th>\n",
              "      <th>recsporthockey</th>\n",
              "      <th>scicrypt</th>\n",
              "      <th>scielectronics</th>\n",
              "      <th>scimed</th>\n",
              "      <th>scispace</th>\n",
              "      <th>socreligionchristian</th>\n",
              "      <th>talkpoliticsguns</th>\n",
              "      <th>talkpoliticsmideast</th>\n",
              "      <th>talkpoliticsmisc</th>\n",
              "      <th>talkreligionmisc</th>\n",
              "    </tr>\n",
              "  </thead>\n",
              "  <tbody>\n",
              "    <tr>\n",
              "      <th>altatheism</th>\n",
              "      <td>0</td>\n",
              "      <td>0</td>\n",
              "      <td>0</td>\n",
              "      <td>0</td>\n",
              "      <td>0</td>\n",
              "      <td>0</td>\n",
              "      <td>0</td>\n",
              "      <td>0</td>\n",
              "      <td>0</td>\n",
              "      <td>0</td>\n",
              "      <td>0</td>\n",
              "      <td>0</td>\n",
              "      <td>0</td>\n",
              "      <td>0</td>\n",
              "      <td>0</td>\n",
              "      <td>0</td>\n",
              "      <td>0</td>\n",
              "      <td>0</td>\n",
              "      <td>0</td>\n",
              "      <td>0</td>\n",
              "    </tr>\n",
              "    <tr>\n",
              "      <th>compgraphics</th>\n",
              "      <td>0</td>\n",
              "      <td>0</td>\n",
              "      <td>0</td>\n",
              "      <td>0</td>\n",
              "      <td>0</td>\n",
              "      <td>0</td>\n",
              "      <td>0</td>\n",
              "      <td>0</td>\n",
              "      <td>0</td>\n",
              "      <td>0</td>\n",
              "      <td>0</td>\n",
              "      <td>0</td>\n",
              "      <td>0</td>\n",
              "      <td>0</td>\n",
              "      <td>0</td>\n",
              "      <td>0</td>\n",
              "      <td>0</td>\n",
              "      <td>0</td>\n",
              "      <td>0</td>\n",
              "      <td>0</td>\n",
              "    </tr>\n",
              "    <tr>\n",
              "      <th>composmswindowsmisc</th>\n",
              "      <td>0</td>\n",
              "      <td>0</td>\n",
              "      <td>0</td>\n",
              "      <td>0</td>\n",
              "      <td>0</td>\n",
              "      <td>0</td>\n",
              "      <td>0</td>\n",
              "      <td>0</td>\n",
              "      <td>0</td>\n",
              "      <td>0</td>\n",
              "      <td>0</td>\n",
              "      <td>0</td>\n",
              "      <td>0</td>\n",
              "      <td>0</td>\n",
              "      <td>0</td>\n",
              "      <td>0</td>\n",
              "      <td>0</td>\n",
              "      <td>0</td>\n",
              "      <td>0</td>\n",
              "      <td>0</td>\n",
              "    </tr>\n",
              "    <tr>\n",
              "      <th>compsysibmpchardware</th>\n",
              "      <td>0</td>\n",
              "      <td>0</td>\n",
              "      <td>0</td>\n",
              "      <td>0</td>\n",
              "      <td>0</td>\n",
              "      <td>0</td>\n",
              "      <td>0</td>\n",
              "      <td>0</td>\n",
              "      <td>0</td>\n",
              "      <td>0</td>\n",
              "      <td>0</td>\n",
              "      <td>0</td>\n",
              "      <td>0</td>\n",
              "      <td>0</td>\n",
              "      <td>0</td>\n",
              "      <td>0</td>\n",
              "      <td>0</td>\n",
              "      <td>0</td>\n",
              "      <td>0</td>\n",
              "      <td>0</td>\n",
              "    </tr>\n",
              "    <tr>\n",
              "      <th>compsysmachardware</th>\n",
              "      <td>0</td>\n",
              "      <td>0</td>\n",
              "      <td>0</td>\n",
              "      <td>0</td>\n",
              "      <td>0</td>\n",
              "      <td>0</td>\n",
              "      <td>0</td>\n",
              "      <td>0</td>\n",
              "      <td>0</td>\n",
              "      <td>0</td>\n",
              "      <td>0</td>\n",
              "      <td>0</td>\n",
              "      <td>0</td>\n",
              "      <td>0</td>\n",
              "      <td>0</td>\n",
              "      <td>0</td>\n",
              "      <td>0</td>\n",
              "      <td>0</td>\n",
              "      <td>0</td>\n",
              "      <td>0</td>\n",
              "    </tr>\n",
              "  </tbody>\n",
              "</table>\n",
              "</div>\n",
              "    <div class=\"colab-df-buttons\">\n",
              "\n",
              "  <div class=\"colab-df-container\">\n",
              "    <button class=\"colab-df-convert\" onclick=\"convertToInteractive('df-9f617929-75d2-497c-96e5-567395dbed51')\"\n",
              "            title=\"Convert this dataframe to an interactive table.\"\n",
              "            style=\"display:none;\">\n",
              "\n",
              "  <svg xmlns=\"http://www.w3.org/2000/svg\" height=\"24px\" viewBox=\"0 -960 960 960\">\n",
              "    <path d=\"M120-120v-720h720v720H120Zm60-500h600v-160H180v160Zm220 220h160v-160H400v160Zm0 220h160v-160H400v160ZM180-400h160v-160H180v160Zm440 0h160v-160H620v160ZM180-180h160v-160H180v160Zm440 0h160v-160H620v160Z\"/>\n",
              "  </svg>\n",
              "    </button>\n",
              "\n",
              "  <style>\n",
              "    .colab-df-container {\n",
              "      display:flex;\n",
              "      gap: 12px;\n",
              "    }\n",
              "\n",
              "    .colab-df-convert {\n",
              "      background-color: #E8F0FE;\n",
              "      border: none;\n",
              "      border-radius: 50%;\n",
              "      cursor: pointer;\n",
              "      display: none;\n",
              "      fill: #1967D2;\n",
              "      height: 32px;\n",
              "      padding: 0 0 0 0;\n",
              "      width: 32px;\n",
              "    }\n",
              "\n",
              "    .colab-df-convert:hover {\n",
              "      background-color: #E2EBFA;\n",
              "      box-shadow: 0px 1px 2px rgba(60, 64, 67, 0.3), 0px 1px 3px 1px rgba(60, 64, 67, 0.15);\n",
              "      fill: #174EA6;\n",
              "    }\n",
              "\n",
              "    .colab-df-buttons div {\n",
              "      margin-bottom: 4px;\n",
              "    }\n",
              "\n",
              "    [theme=dark] .colab-df-convert {\n",
              "      background-color: #3B4455;\n",
              "      fill: #D2E3FC;\n",
              "    }\n",
              "\n",
              "    [theme=dark] .colab-df-convert:hover {\n",
              "      background-color: #434B5C;\n",
              "      box-shadow: 0px 1px 3px 1px rgba(0, 0, 0, 0.15);\n",
              "      filter: drop-shadow(0px 1px 2px rgba(0, 0, 0, 0.3));\n",
              "      fill: #FFFFFF;\n",
              "    }\n",
              "  </style>\n",
              "\n",
              "    <script>\n",
              "      const buttonEl =\n",
              "        document.querySelector('#df-9f617929-75d2-497c-96e5-567395dbed51 button.colab-df-convert');\n",
              "      buttonEl.style.display =\n",
              "        google.colab.kernel.accessAllowed ? 'block' : 'none';\n",
              "\n",
              "      async function convertToInteractive(key) {\n",
              "        const element = document.querySelector('#df-9f617929-75d2-497c-96e5-567395dbed51');\n",
              "        const dataTable =\n",
              "          await google.colab.kernel.invokeFunction('convertToInteractive',\n",
              "                                                    [key], {});\n",
              "        if (!dataTable) return;\n",
              "\n",
              "        const docLinkHtml = 'Like what you see? Visit the ' +\n",
              "          '<a target=\"_blank\" href=https://colab.research.google.com/notebooks/data_table.ipynb>data table notebook</a>'\n",
              "          + ' to learn more about interactive tables.';\n",
              "        element.innerHTML = '';\n",
              "        dataTable['output_type'] = 'display_data';\n",
              "        await google.colab.output.renderOutput(dataTable, element);\n",
              "        const docLink = document.createElement('div');\n",
              "        docLink.innerHTML = docLinkHtml;\n",
              "        element.appendChild(docLink);\n",
              "      }\n",
              "    </script>\n",
              "  </div>\n",
              "\n",
              "\n",
              "<div id=\"df-d0f7a7af-e533-4a00-968c-3573c367228f\">\n",
              "  <button class=\"colab-df-quickchart\" onclick=\"quickchart('df-d0f7a7af-e533-4a00-968c-3573c367228f')\"\n",
              "            title=\"Suggest charts.\"\n",
              "            style=\"display:none;\">\n",
              "\n",
              "<svg xmlns=\"http://www.w3.org/2000/svg\" height=\"24px\"viewBox=\"0 0 24 24\"\n",
              "     width=\"24px\">\n",
              "    <g>\n",
              "        <path d=\"M19 3H5c-1.1 0-2 .9-2 2v14c0 1.1.9 2 2 2h14c1.1 0 2-.9 2-2V5c0-1.1-.9-2-2-2zM9 17H7v-7h2v7zm4 0h-2V7h2v10zm4 0h-2v-4h2v4z\"/>\n",
              "    </g>\n",
              "</svg>\n",
              "  </button>\n",
              "\n",
              "<style>\n",
              "  .colab-df-quickchart {\n",
              "      --bg-color: #E8F0FE;\n",
              "      --fill-color: #1967D2;\n",
              "      --hover-bg-color: #E2EBFA;\n",
              "      --hover-fill-color: #174EA6;\n",
              "      --disabled-fill-color: #AAA;\n",
              "      --disabled-bg-color: #DDD;\n",
              "  }\n",
              "\n",
              "  [theme=dark] .colab-df-quickchart {\n",
              "      --bg-color: #3B4455;\n",
              "      --fill-color: #D2E3FC;\n",
              "      --hover-bg-color: #434B5C;\n",
              "      --hover-fill-color: #FFFFFF;\n",
              "      --disabled-bg-color: #3B4455;\n",
              "      --disabled-fill-color: #666;\n",
              "  }\n",
              "\n",
              "  .colab-df-quickchart {\n",
              "    background-color: var(--bg-color);\n",
              "    border: none;\n",
              "    border-radius: 50%;\n",
              "    cursor: pointer;\n",
              "    display: none;\n",
              "    fill: var(--fill-color);\n",
              "    height: 32px;\n",
              "    padding: 0;\n",
              "    width: 32px;\n",
              "  }\n",
              "\n",
              "  .colab-df-quickchart:hover {\n",
              "    background-color: var(--hover-bg-color);\n",
              "    box-shadow: 0 1px 2px rgba(60, 64, 67, 0.3), 0 1px 3px 1px rgba(60, 64, 67, 0.15);\n",
              "    fill: var(--button-hover-fill-color);\n",
              "  }\n",
              "\n",
              "  .colab-df-quickchart-complete:disabled,\n",
              "  .colab-df-quickchart-complete:disabled:hover {\n",
              "    background-color: var(--disabled-bg-color);\n",
              "    fill: var(--disabled-fill-color);\n",
              "    box-shadow: none;\n",
              "  }\n",
              "\n",
              "  .colab-df-spinner {\n",
              "    border: 2px solid var(--fill-color);\n",
              "    border-color: transparent;\n",
              "    border-bottom-color: var(--fill-color);\n",
              "    animation:\n",
              "      spin 1s steps(1) infinite;\n",
              "  }\n",
              "\n",
              "  @keyframes spin {\n",
              "    0% {\n",
              "      border-color: transparent;\n",
              "      border-bottom-color: var(--fill-color);\n",
              "      border-left-color: var(--fill-color);\n",
              "    }\n",
              "    20% {\n",
              "      border-color: transparent;\n",
              "      border-left-color: var(--fill-color);\n",
              "      border-top-color: var(--fill-color);\n",
              "    }\n",
              "    30% {\n",
              "      border-color: transparent;\n",
              "      border-left-color: var(--fill-color);\n",
              "      border-top-color: var(--fill-color);\n",
              "      border-right-color: var(--fill-color);\n",
              "    }\n",
              "    40% {\n",
              "      border-color: transparent;\n",
              "      border-right-color: var(--fill-color);\n",
              "      border-top-color: var(--fill-color);\n",
              "    }\n",
              "    60% {\n",
              "      border-color: transparent;\n",
              "      border-right-color: var(--fill-color);\n",
              "    }\n",
              "    80% {\n",
              "      border-color: transparent;\n",
              "      border-right-color: var(--fill-color);\n",
              "      border-bottom-color: var(--fill-color);\n",
              "    }\n",
              "    90% {\n",
              "      border-color: transparent;\n",
              "      border-bottom-color: var(--fill-color);\n",
              "    }\n",
              "  }\n",
              "</style>\n",
              "\n",
              "  <script>\n",
              "    async function quickchart(key) {\n",
              "      const quickchartButtonEl =\n",
              "        document.querySelector('#' + key + ' button');\n",
              "      quickchartButtonEl.disabled = true;  // To prevent multiple clicks.\n",
              "      quickchartButtonEl.classList.add('colab-df-spinner');\n",
              "      try {\n",
              "        const charts = await google.colab.kernel.invokeFunction(\n",
              "            'suggestCharts', [key], {});\n",
              "      } catch (error) {\n",
              "        console.error('Error during call to suggestCharts:', error);\n",
              "      }\n",
              "      quickchartButtonEl.classList.remove('colab-df-spinner');\n",
              "      quickchartButtonEl.classList.add('colab-df-quickchart-complete');\n",
              "    }\n",
              "    (() => {\n",
              "      let quickchartButtonEl =\n",
              "        document.querySelector('#df-d0f7a7af-e533-4a00-968c-3573c367228f button');\n",
              "      quickchartButtonEl.style.display =\n",
              "        google.colab.kernel.accessAllowed ? 'block' : 'none';\n",
              "    })();\n",
              "  </script>\n",
              "</div>\n",
              "    </div>\n",
              "  </div>\n"
            ]
          },
          "metadata": {},
          "execution_count": 40
        }
      ]
    },
    {
      "cell_type": "code",
      "source": [
        "with open(\"20News_05.txt\", 'w') as f:\n",
        "    f.write(df.to_string())"
      ],
      "metadata": {
        "id": "_iBmYUU--lUc"
      },
      "execution_count": null,
      "outputs": []
    },
    {
      "cell_type": "markdown",
      "source": [
        "#Word2Vec"
      ],
      "metadata": {
        "id": "O4KJBXQHI4Jb"
      }
    },
    {
      "cell_type": "code",
      "source": [
        "nlp=spacy.load('en_core_web_sm')\n",
        "bag_vector=[nlp(sentence).vector for sentence in corpus]\n",
        "with open('20News_06.txt', 'w') as f:\n",
        "    for vec in bag_vector:\n",
        "        vec_str = ' '.join(map(str, vec))\n",
        "        f.write(f\"{vec_str}\\n\")"
      ],
      "metadata": {
        "id": "ki5rZmaoA7Xz"
      },
      "execution_count": null,
      "outputs": []
    }
  ]
}